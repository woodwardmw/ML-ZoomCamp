{
 "cells": [
  {
   "cell_type": "code",
   "execution_count": 3,
   "id": "b7255b5e",
   "metadata": {},
   "outputs": [],
   "source": [
    "# !wget https://github.com/alexeygrigorev/large-datasets/releases/download/dogs-cats/train.zip"
   ]
  },
  {
   "cell_type": "code",
   "execution_count": 4,
   "id": "51001a5b",
   "metadata": {},
   "outputs": [],
   "source": [
    "# import os\n",
    "# import shutil\n",
    "# import re\n",
    "# src = 'data/train'\n",
    "# dest = 'train/cats'\n",
    "# src_files = os.listdir(src)\n",
    "\n",
    "# # print(src_files)\n",
    "\n",
    "# pattern = 'cat\\.\\d{1,4}\\.jpg'\n",
    "# first_10000_cat = [x for x in src_files if re.search(pattern, x)]\n",
    "# for file_name in first_10000_cat:\n",
    "#     full_file_name = os.path.join(src, file_name)\n",
    "#     if os.path.isfile(full_file_name):\n",
    "#         shutil.move(full_file_name, dest)\n",
    "\n"
   ]
  },
  {
   "cell_type": "code",
   "execution_count": 5,
   "id": "1e32688c",
   "metadata": {},
   "outputs": [],
   "source": [
    "# src = 'data/train'\n",
    "# dest = 'validation/cats'\n",
    "# src_files = os.listdir(src)\n",
    "# pattern = 'cat\\.\\d{5}\\.jpg'\n",
    "# last_2500_cat = [x for x in src_files if re.search(pattern, x)]\n",
    "# for file_name in last_2500_cat:\n",
    "#     full_file_name = os.path.join(src, file_name)\n",
    "#     if os.path.isfile(full_file_name):\n",
    "#         shutil.move(full_file_name, dest)"
   ]
  },
  {
   "cell_type": "code",
   "execution_count": 6,
   "id": "acb5c827",
   "metadata": {},
   "outputs": [],
   "source": [
    "# src = 'data/train'\n",
    "# dest = 'validation/dogs'\n",
    "# src_files = os.listdir(src)\n",
    "# pattern = 'dog\\.\\d{5}\\.jpg'\n",
    "# last_2500_dogs = [x for x in src_files if re.search(pattern, x)]\n",
    "# for file_name in last_2500_dogs:\n",
    "#     full_file_name = os.path.join(src, file_name)\n",
    "#     if os.path.isfile(full_file_name):\n",
    "#         shutil.move(full_file_name, dest)"
   ]
  },
  {
   "cell_type": "code",
   "execution_count": 7,
   "id": "f6219953",
   "metadata": {},
   "outputs": [],
   "source": [
    "# src = 'data/train'\n",
    "# dest = 'train/dogs'\n",
    "# src_files = os.listdir(src)\n",
    "# pattern = 'dog\\.\\d{1,4}\\.jpg'\n",
    "# first_10000_dogs = [x for x in src_files if re.search(pattern, x)]\n",
    "# for file_name in first_10000_dogs:\n",
    "#     full_file_name = os.path.join(src, file_name)\n",
    "#     if os.path.isfile(full_file_name):\n",
    "#         shutil.move(full_file_name, dest)"
   ]
  },
  {
   "cell_type": "code",
   "execution_count": 8,
   "id": "ed6b0076",
   "metadata": {},
   "outputs": [],
   "source": [
    "import tensorflow as tf\n",
    "from tensorflow import keras\n",
    "from tensorflow.keras.preprocessing.image import ImageDataGenerator\n",
    "from tensorflow.keras.preprocessing.image import load_img\n",
    "import statistics"
   ]
  },
  {
   "cell_type": "code",
   "execution_count": 9,
   "id": "a554daef",
   "metadata": {},
   "outputs": [],
   "source": [
    "input_shape = (1, 150, 150, 3)"
   ]
  },
  {
   "cell_type": "code",
   "execution_count": 10,
   "id": "ce67593d",
   "metadata": {},
   "outputs": [],
   "source": [
    "inputs = tf.keras.Input(shape=(150,150,3))"
   ]
  },
  {
   "cell_type": "code",
   "execution_count": 11,
   "id": "4ec4e5ea",
   "metadata": {},
   "outputs": [
    {
     "name": "stderr",
     "output_type": "stream",
     "text": [
      "2021-11-20 14:34:44.341053: W tensorflow/stream_executor/platform/default/dso_loader.cc:64] Could not load dynamic library 'libcuda.so.1'; dlerror: libcuda.so.1: cannot open shared object file: No such file or directory\n",
      "2021-11-20 14:34:44.341092: W tensorflow/stream_executor/cuda/cuda_driver.cc:269] failed call to cuInit: UNKNOWN ERROR (303)\n",
      "2021-11-20 14:34:44.341123: I tensorflow/stream_executor/cuda/cuda_diagnostics.cc:156] kernel driver does not appear to be running on this host (mark-laptop): /proc/driver/nvidia/version does not exist\n",
      "2021-11-20 14:34:44.341434: I tensorflow/core/platform/cpu_feature_guard.cc:151] This TensorFlow binary is optimized with oneAPI Deep Neural Network Library (oneDNN) to use the following CPU instructions in performance-critical operations:  AVX2 FMA\n",
      "To enable them in other operations, rebuild TensorFlow with the appropriate compiler flags.\n"
     ]
    }
   ],
   "source": [
    "conv2d = keras.layers.Conv2D(filters=32, kernel_size=(3,3), activation='relu', input_shape=input_shape[1:])(inputs)"
   ]
  },
  {
   "cell_type": "code",
   "execution_count": 12,
   "id": "f769c481",
   "metadata": {},
   "outputs": [],
   "source": [
    "max_pooling_2d = keras.layers.MaxPooling2D(pool_size=(2, 2))(conv2d)"
   ]
  },
  {
   "cell_type": "code",
   "execution_count": 13,
   "id": "a950bea0",
   "metadata": {},
   "outputs": [],
   "source": [
    "vectors = keras.layers.Flatten()(max_pooling_2d)"
   ]
  },
  {
   "cell_type": "code",
   "execution_count": 14,
   "id": "5f34e2f8",
   "metadata": {},
   "outputs": [],
   "source": [
    "dense = keras.layers.Dense(64, activation='relu')(vectors)"
   ]
  },
  {
   "cell_type": "code",
   "execution_count": 15,
   "id": "5ea1ee8a",
   "metadata": {},
   "outputs": [],
   "source": [
    "output = keras.layers.Dense(1, activation='sigmoid')(dense)"
   ]
  },
  {
   "cell_type": "code",
   "execution_count": 16,
   "id": "a78a1b31",
   "metadata": {},
   "outputs": [],
   "source": [
    "model = keras.Model(inputs, output)"
   ]
  },
  {
   "cell_type": "code",
   "execution_count": 17,
   "id": "0d8a760e",
   "metadata": {},
   "outputs": [],
   "source": [
    "learning_rate = 0.002\n",
    "momentum = 0.8\n",
    "optimizer = keras.optimizers.SGD(learning_rate=learning_rate, momentum=momentum)"
   ]
  },
  {
   "cell_type": "code",
   "execution_count": 18,
   "id": "626fba31",
   "metadata": {},
   "outputs": [],
   "source": [
    "loss = keras.losses.BinaryCrossentropy()"
   ]
  },
  {
   "cell_type": "code",
   "execution_count": 19,
   "id": "0290e4b1",
   "metadata": {},
   "outputs": [],
   "source": [
    "model.compile(optimizer=optimizer, loss=loss, metrics=['accuracy'])"
   ]
  },
  {
   "cell_type": "code",
   "execution_count": 20,
   "id": "1db522bb",
   "metadata": {},
   "outputs": [
    {
     "name": "stdout",
     "output_type": "stream",
     "text": [
      "Model: \"model\"\n",
      "_________________________________________________________________\n",
      " Layer (type)                Output Shape              Param #   \n",
      "=================================================================\n",
      " input_1 (InputLayer)        [(None, 150, 150, 3)]     0         \n",
      "                                                                 \n",
      " conv2d (Conv2D)             (None, 148, 148, 32)      896       \n",
      "                                                                 \n",
      " max_pooling2d (MaxPooling2D  (None, 74, 74, 32)       0         \n",
      " )                                                               \n",
      "                                                                 \n",
      " flatten (Flatten)           (None, 175232)            0         \n",
      "                                                                 \n",
      " dense (Dense)               (None, 64)                11214912  \n",
      "                                                                 \n",
      " dense_1 (Dense)             (None, 1)                 65        \n",
      "                                                                 \n",
      "=================================================================\n",
      "Total params: 11,215,873\n",
      "Trainable params: 11,215,873\n",
      "Non-trainable params: 0\n",
      "_________________________________________________________________\n"
     ]
    }
   ],
   "source": [
    "model.summary()"
   ]
  },
  {
   "cell_type": "code",
   "execution_count": 21,
   "id": "83fb1b14",
   "metadata": {},
   "outputs": [],
   "source": [
    "train_gen = ImageDataGenerator(rescale=1./255)"
   ]
  },
  {
   "cell_type": "code",
   "execution_count": 22,
   "id": "3c2e9da2",
   "metadata": {},
   "outputs": [
    {
     "name": "stdout",
     "output_type": "stream",
     "text": [
      "Found 20000 images belonging to 2 classes.\n"
     ]
    }
   ],
   "source": [
    "train_ds = train_gen.flow_from_directory(\n",
    "    './train',\n",
    "    target_size=(150, 150),\n",
    "    batch_size=20,\n",
    "    class_mode='binary'\n",
    ")"
   ]
  },
  {
   "cell_type": "code",
   "execution_count": 23,
   "id": "2ecb28d0",
   "metadata": {},
   "outputs": [
    {
     "name": "stdout",
     "output_type": "stream",
     "text": [
      "Found 5000 images belonging to 2 classes.\n"
     ]
    }
   ],
   "source": [
    "validation_ds = train_gen.flow_from_directory(\n",
    "    './validation',\n",
    "    target_size=(150, 150),\n",
    "    batch_size=20,\n",
    "    class_mode='binary'\n",
    ")"
   ]
  },
  {
   "cell_type": "code",
   "execution_count": 24,
   "id": "675650c5",
   "metadata": {},
   "outputs": [
    {
     "name": "stdout",
     "output_type": "stream",
     "text": [
      "Epoch 1/10\n",
      "100/100 [==============================] - 23s 226ms/step - loss: 0.7000 - accuracy: 0.5210 - val_loss: 0.6898 - val_accuracy: 0.5370\n",
      "Epoch 2/10\n",
      "100/100 [==============================] - 22s 222ms/step - loss: 0.6891 - accuracy: 0.5435 - val_loss: 0.6874 - val_accuracy: 0.5420\n",
      "Epoch 3/10\n",
      "100/100 [==============================] - 23s 234ms/step - loss: 0.6860 - accuracy: 0.5405 - val_loss: 0.6874 - val_accuracy: 0.5400\n",
      "Epoch 4/10\n",
      "100/100 [==============================] - 23s 230ms/step - loss: 0.6798 - accuracy: 0.5720 - val_loss: 0.6785 - val_accuracy: 0.5930\n",
      "Epoch 5/10\n",
      "100/100 [==============================] - 22s 223ms/step - loss: 0.6764 - accuracy: 0.5650 - val_loss: 0.6670 - val_accuracy: 0.5990\n",
      "Epoch 6/10\n",
      "100/100 [==============================] - 22s 221ms/step - loss: 0.6699 - accuracy: 0.5880 - val_loss: 0.6661 - val_accuracy: 0.5780\n",
      "Epoch 7/10\n",
      "100/100 [==============================] - 22s 223ms/step - loss: 0.6691 - accuracy: 0.5910 - val_loss: 0.6595 - val_accuracy: 0.6060\n",
      "Epoch 8/10\n",
      "100/100 [==============================] - 22s 224ms/step - loss: 0.6522 - accuracy: 0.6130 - val_loss: 0.6644 - val_accuracy: 0.5790\n",
      "Epoch 9/10\n",
      "100/100 [==============================] - 23s 230ms/step - loss: 0.6546 - accuracy: 0.6145 - val_loss: 0.6547 - val_accuracy: 0.5970\n",
      "Epoch 10/10\n",
      "100/100 [==============================] - 22s 220ms/step - loss: 0.6461 - accuracy: 0.6090 - val_loss: 0.6434 - val_accuracy: 0.6230\n"
     ]
    },
    {
     "data": {
      "text/plain": [
       "<keras.callbacks.History at 0x7f75442fcee0>"
      ]
     },
     "execution_count": 24,
     "metadata": {},
     "output_type": "execute_result"
    }
   ],
   "source": [
    "model.fit(\n",
    "    train_ds,\n",
    "    steps_per_epoch=100,\n",
    "    epochs=10,\n",
    "    validation_data=validation_ds,\n",
    "    validation_steps=50\n",
    ")"
   ]
  },
  {
   "cell_type": "code",
   "execution_count": 25,
   "id": "89349231",
   "metadata": {},
   "outputs": [
    {
     "data": {
      "text/plain": [
       "0.5800000131130219"
      ]
     },
     "execution_count": 25,
     "metadata": {},
     "output_type": "execute_result"
    }
   ],
   "source": [
    "statistics.median(model.history.history['accuracy'])"
   ]
  },
  {
   "cell_type": "code",
   "execution_count": 26,
   "id": "b5147b1a",
   "metadata": {},
   "outputs": [
    {
     "data": {
      "text/plain": [
       "0.017426732384670483"
      ]
     },
     "execution_count": 26,
     "metadata": {},
     "output_type": "execute_result"
    }
   ],
   "source": [
    "statistics.stdev(model.history.history['loss'])"
   ]
  },
  {
   "cell_type": "markdown",
   "id": "397fe09e",
   "metadata": {},
   "source": [
    "## Question 4"
   ]
  },
  {
   "cell_type": "code",
   "execution_count": 27,
   "id": "d38f74f5",
   "metadata": {},
   "outputs": [],
   "source": [
    "train_gen_aug = ImageDataGenerator(\n",
    "rescale=1./255, \n",
    "rotation_range=40,\n",
    "width_shift_range=0.2,\n",
    "height_shift_range=0.2,\n",
    "shear_range=0.2,\n",
    "zoom_range=0.2,\n",
    "horizontal_flip=True,\n",
    "fill_mode='nearest')"
   ]
  },
  {
   "cell_type": "code",
   "execution_count": 28,
   "id": "af0ac249",
   "metadata": {},
   "outputs": [
    {
     "name": "stdout",
     "output_type": "stream",
     "text": [
      "Found 20000 images belonging to 2 classes.\n"
     ]
    }
   ],
   "source": [
    "train_ds = train_gen_aug.flow_from_directory(\n",
    "    './train',\n",
    "    target_size=(150, 150),\n",
    "    batch_size=20,\n",
    "    class_mode='binary'\n",
    ")"
   ]
  },
  {
   "cell_type": "code",
   "execution_count": 29,
   "id": "54235927",
   "metadata": {},
   "outputs": [],
   "source": [
    "# validation_ds = train_gen.flow_from_directory(\n",
    "#     './validation',\n",
    "#     target_size=(150, 150),\n",
    "#     batch_size=20,\n",
    "#     class_mode='binary'\n",
    "# )"
   ]
  },
  {
   "cell_type": "code",
   "execution_count": 30,
   "id": "75f4bd15",
   "metadata": {},
   "outputs": [
    {
     "name": "stdout",
     "output_type": "stream",
     "text": [
      "Epoch 1/10\n",
      "100/100 [==============================] - 26s 261ms/step - loss: 0.6596 - accuracy: 0.5955 - val_loss: 0.6774 - val_accuracy: 0.5610\n",
      "Epoch 2/10\n",
      "100/100 [==============================] - 26s 256ms/step - loss: 0.6666 - accuracy: 0.5765 - val_loss: 0.6410 - val_accuracy: 0.6050\n",
      "Epoch 3/10\n",
      "100/100 [==============================] - 26s 259ms/step - loss: 0.6650 - accuracy: 0.5835 - val_loss: 0.6583 - val_accuracy: 0.6020\n",
      "Epoch 4/10\n",
      "100/100 [==============================] - 25s 252ms/step - loss: 0.6604 - accuracy: 0.5940 - val_loss: 0.6293 - val_accuracy: 0.6310\n",
      "Epoch 5/10\n",
      "100/100 [==============================] - 25s 253ms/step - loss: 0.6642 - accuracy: 0.5955 - val_loss: 0.6355 - val_accuracy: 0.6290\n",
      "Epoch 6/10\n",
      "100/100 [==============================] - 26s 258ms/step - loss: 0.6611 - accuracy: 0.6000 - val_loss: 0.6730 - val_accuracy: 0.5750\n",
      "Epoch 7/10\n",
      "100/100 [==============================] - 25s 253ms/step - loss: 0.6532 - accuracy: 0.6000 - val_loss: 0.6329 - val_accuracy: 0.6210\n",
      "Epoch 8/10\n",
      "100/100 [==============================] - 27s 265ms/step - loss: 0.6526 - accuracy: 0.6015 - val_loss: 0.6488 - val_accuracy: 0.6060\n",
      "Epoch 9/10\n",
      "100/100 [==============================] - 25s 254ms/step - loss: 0.6448 - accuracy: 0.6160 - val_loss: 0.6353 - val_accuracy: 0.6060\n",
      "Epoch 10/10\n",
      "100/100 [==============================] - 26s 260ms/step - loss: 0.6616 - accuracy: 0.5855 - val_loss: 0.6409 - val_accuracy: 0.6360\n"
     ]
    },
    {
     "data": {
      "text/plain": [
       "<keras.callbacks.History at 0x7f75222f1dc0>"
      ]
     },
     "execution_count": 30,
     "metadata": {},
     "output_type": "execute_result"
    }
   ],
   "source": [
    "model.fit(\n",
    "    train_ds,\n",
    "    steps_per_epoch=100,\n",
    "    epochs=10,\n",
    "    validation_data=validation_ds,\n",
    "    validation_steps=50\n",
    ")"
   ]
  },
  {
   "cell_type": "code",
   "execution_count": 31,
   "id": "a5ab8496",
   "metadata": {},
   "outputs": [
    {
     "data": {
      "text/plain": [
       "0.6472484052181244"
      ]
     },
     "execution_count": 31,
     "metadata": {},
     "output_type": "execute_result"
    }
   ],
   "source": [
    "statistics.mean(model.history.history['val_loss'])"
   ]
  },
  {
   "cell_type": "code",
   "execution_count": 32,
   "id": "9c27d3ac",
   "metadata": {},
   "outputs": [
    {
     "data": {
      "text/plain": [
       "0.6087999939918518"
      ]
     },
     "execution_count": 32,
     "metadata": {},
     "output_type": "execute_result"
    }
   ],
   "source": [
    "statistics.mean(model.history.history['val_accuracy'][5:])"
   ]
  }
 ],
 "metadata": {
  "kernelspec": {
   "display_name": "MLZoomCamp",
   "language": "python",
   "name": "mlzoomcamp"
  },
  "language_info": {
   "codemirror_mode": {
    "name": "ipython",
    "version": 3
   },
   "file_extension": ".py",
   "mimetype": "text/x-python",
   "name": "python",
   "nbconvert_exporter": "python",
   "pygments_lexer": "ipython3",
   "version": "3.9.5"
  }
 },
 "nbformat": 4,
 "nbformat_minor": 5
}
