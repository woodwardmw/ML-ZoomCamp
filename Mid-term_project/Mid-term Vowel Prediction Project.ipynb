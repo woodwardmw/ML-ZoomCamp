{
 "cells": [
  {
   "cell_type": "markdown",
   "id": "79b0744f",
   "metadata": {},
   "source": [
    "Data: http://archive.ics.uci.edu/ml/machine-learning-databases/undocumented/connectionist-bench/vowel/\n",
    "\n",
    "https://sci2s.ugr.es/keel/dataset.php?cod=113"
   ]
  },
  {
   "cell_type": "markdown",
   "id": "8bfa2b95",
   "metadata": {},
   "source": [
    "* Thinking of a problem that's interesting for you and finding a dataset for that\n",
    "* Describing this problem and explaining how a model could be used\n",
    "* Preparing the data and doing EDA, analyzing important features\n",
    "* Training multiple models, tuning their performance and selecting the best model\n",
    "* Exporting the notebook into a script\n",
    "* Putting your model into a web service and deploying it locally with docker\n",
    "* Bonus points for deploying the service to the cloud"
   ]
  },
  {
   "cell_type": "code",
   "execution_count": 689,
   "id": "76b7c463",
   "metadata": {},
   "outputs": [],
   "source": [
    "import pandas as pd\n",
    "import numpy as np\n",
    "import seaborn as sns\n",
    "pd.set_option('display.max_rows', 200)\n"
   ]
  },
  {
   "cell_type": "code",
   "execution_count": 690,
   "id": "7d315496",
   "metadata": {},
   "outputs": [],
   "source": [
    "df = pd.read_csv('vowels_data.csv')"
   ]
  },
  {
   "cell_type": "code",
   "execution_count": 691,
   "id": "f83d4e52",
   "metadata": {},
   "outputs": [],
   "source": [
    "df.drop(columns = \"train_test\", inplace = True)"
   ]
  },
  {
   "cell_type": "code",
   "execution_count": 692,
   "id": "4bfa4c5a",
   "metadata": {},
   "outputs": [
    {
     "data": {
      "text/html": [
       "<div>\n",
       "<style scoped>\n",
       "    .dataframe tbody tr th:only-of-type {\n",
       "        vertical-align: middle;\n",
       "    }\n",
       "\n",
       "    .dataframe tbody tr th {\n",
       "        vertical-align: top;\n",
       "    }\n",
       "\n",
       "    .dataframe thead th {\n",
       "        text-align: right;\n",
       "    }\n",
       "</style>\n",
       "<table border=\"1\" class=\"dataframe\">\n",
       "  <thead>\n",
       "    <tr style=\"text-align: right;\">\n",
       "      <th></th>\n",
       "      <th>speaker</th>\n",
       "      <th>sex</th>\n",
       "      <th>f0</th>\n",
       "      <th>f1</th>\n",
       "      <th>f2</th>\n",
       "      <th>f3</th>\n",
       "      <th>f4</th>\n",
       "      <th>f5</th>\n",
       "      <th>f6</th>\n",
       "      <th>f7</th>\n",
       "      <th>f8</th>\n",
       "      <th>f9</th>\n",
       "      <th>vowel</th>\n",
       "    </tr>\n",
       "  </thead>\n",
       "  <tbody>\n",
       "    <tr>\n",
       "      <th>0</th>\n",
       "      <td>0</td>\n",
       "      <td>0</td>\n",
       "      <td>-3.639</td>\n",
       "      <td>0.418</td>\n",
       "      <td>-0.670</td>\n",
       "      <td>1.779</td>\n",
       "      <td>-0.168</td>\n",
       "      <td>1.627</td>\n",
       "      <td>-0.388</td>\n",
       "      <td>0.529</td>\n",
       "      <td>-0.874</td>\n",
       "      <td>-0.814</td>\n",
       "      <td>0</td>\n",
       "    </tr>\n",
       "    <tr>\n",
       "      <th>1</th>\n",
       "      <td>0</td>\n",
       "      <td>0</td>\n",
       "      <td>-3.327</td>\n",
       "      <td>0.496</td>\n",
       "      <td>-0.694</td>\n",
       "      <td>1.365</td>\n",
       "      <td>-0.265</td>\n",
       "      <td>1.933</td>\n",
       "      <td>-0.363</td>\n",
       "      <td>0.510</td>\n",
       "      <td>-0.621</td>\n",
       "      <td>-0.488</td>\n",
       "      <td>1</td>\n",
       "    </tr>\n",
       "    <tr>\n",
       "      <th>2</th>\n",
       "      <td>0</td>\n",
       "      <td>0</td>\n",
       "      <td>-2.120</td>\n",
       "      <td>0.894</td>\n",
       "      <td>-1.576</td>\n",
       "      <td>0.147</td>\n",
       "      <td>-0.707</td>\n",
       "      <td>1.559</td>\n",
       "      <td>-0.579</td>\n",
       "      <td>0.676</td>\n",
       "      <td>-0.809</td>\n",
       "      <td>-0.049</td>\n",
       "      <td>2</td>\n",
       "    </tr>\n",
       "    <tr>\n",
       "      <th>3</th>\n",
       "      <td>0</td>\n",
       "      <td>0</td>\n",
       "      <td>-2.287</td>\n",
       "      <td>1.809</td>\n",
       "      <td>-1.498</td>\n",
       "      <td>1.012</td>\n",
       "      <td>-1.053</td>\n",
       "      <td>1.060</td>\n",
       "      <td>-0.567</td>\n",
       "      <td>0.235</td>\n",
       "      <td>-0.091</td>\n",
       "      <td>-0.795</td>\n",
       "      <td>3</td>\n",
       "    </tr>\n",
       "    <tr>\n",
       "      <th>4</th>\n",
       "      <td>0</td>\n",
       "      <td>0</td>\n",
       "      <td>-2.598</td>\n",
       "      <td>1.938</td>\n",
       "      <td>-0.846</td>\n",
       "      <td>1.062</td>\n",
       "      <td>-1.633</td>\n",
       "      <td>0.764</td>\n",
       "      <td>0.394</td>\n",
       "      <td>-0.150</td>\n",
       "      <td>0.277</td>\n",
       "      <td>-0.396</td>\n",
       "      <td>4</td>\n",
       "    </tr>\n",
       "  </tbody>\n",
       "</table>\n",
       "</div>"
      ],
      "text/plain": [
       "   speaker  sex     f0     f1     f2     f3     f4     f5     f6     f7  \\\n",
       "0        0    0 -3.639  0.418 -0.670  1.779 -0.168  1.627 -0.388  0.529   \n",
       "1        0    0 -3.327  0.496 -0.694  1.365 -0.265  1.933 -0.363  0.510   \n",
       "2        0    0 -2.120  0.894 -1.576  0.147 -0.707  1.559 -0.579  0.676   \n",
       "3        0    0 -2.287  1.809 -1.498  1.012 -1.053  1.060 -0.567  0.235   \n",
       "4        0    0 -2.598  1.938 -0.846  1.062 -1.633  0.764  0.394 -0.150   \n",
       "\n",
       "      f8     f9  vowel  \n",
       "0 -0.874 -0.814      0  \n",
       "1 -0.621 -0.488      1  \n",
       "2 -0.809 -0.049      2  \n",
       "3 -0.091 -0.795      3  \n",
       "4  0.277 -0.396      4  "
      ]
     },
     "execution_count": 692,
     "metadata": {},
     "output_type": "execute_result"
    }
   ],
   "source": [
    "df.head()"
   ]
  },
  {
   "cell_type": "code",
   "execution_count": 693,
   "id": "90a7957f",
   "metadata": {},
   "outputs": [
    {
     "data": {
      "text/plain": [
       "speaker      int64\n",
       "sex          int64\n",
       "f0         float64\n",
       "f1         float64\n",
       "f2         float64\n",
       "f3         float64\n",
       "f4         float64\n",
       "f5         float64\n",
       "f6         float64\n",
       "f7         float64\n",
       "f8         float64\n",
       "f9         float64\n",
       "vowel        int64\n",
       "dtype: object"
      ]
     },
     "execution_count": 693,
     "metadata": {},
     "output_type": "execute_result"
    }
   ],
   "source": [
    "df.dtypes"
   ]
  },
  {
   "cell_type": "code",
   "execution_count": 694,
   "id": "c77a9e63",
   "metadata": {},
   "outputs": [
    {
     "data": {
      "text/plain": [
       "<AxesSubplot:>"
      ]
     },
     "execution_count": 694,
     "metadata": {},
     "output_type": "execute_result"
    },
    {
     "data": {
      "image/png": "[encoded data removed]",
      "text/plain": [
       "<Figure size 432x288 with 1 Axes>"
      ]
     },
     "metadata": {
      "needs_background": "light"
     },
     "output_type": "display_data"
    }
   ],
   "source": [
    "sns.boxplot(data = df[['f0', 'f1', 'f2', 'f3', 'f4', 'f5', 'f6', 'f7', 'f8', 'f9']])"
   ]
  },
  {
   "cell_type": "markdown",
   "id": "fc3859e0",
   "metadata": {},
   "source": [
    "It's tricky to know how to split the data for train/val/test. Although I have 990 rows of data, they are only spoken by 15 people, and it is reasonable to think that the person speaking is likely to have a significant impact on the data.\n",
    "\n",
    "If I were to split the 990 rows randomly, I would have data leakage from the test data into the training data, since some of the training data would come from the same people who also produced test data.\n",
    "\n",
    "Therefore I decided to split off the test data according to people. I chose two male and two female speakers to constitute the test data.\n",
    "\n",
    "I considered whether or not I should take a similar approach for the validation data. In the end I decided to use a manual cross-validation, where I held back one person from the training data each time to be used for validation, and then took the mean of the evaluation metrics."
   ]
  },
  {
   "cell_type": "code",
   "execution_count": 695,
   "id": "9e532245",
   "metadata": {},
   "outputs": [],
   "source": [
    "from sklearn.model_selection import train_test_split"
   ]
  },
  {
   "cell_type": "code",
   "execution_count": 696,
   "id": "a1140623",
   "metadata": {},
   "outputs": [],
   "source": [
    "df_test = df[df.speaker.isin([10, 11, 13, 14])]  # Two male and two female in df_test"
   ]
  },
  {
   "cell_type": "code",
   "execution_count": 697,
   "id": "422ebe1a",
   "metadata": {},
   "outputs": [],
   "source": [
    "# df_train, df_val = train_test_split(df[df.speaker.isin([0, 1, 2, 3, 4, 5, 6, 7, 8, 9, 12])], test_size = 0.25)"
   ]
  },
  {
   "cell_type": "code",
   "execution_count": 721,
   "id": "afac81ef",
   "metadata": {},
   "outputs": [],
   "source": [
    "# df_val = df[df.speaker.isin([9, 12])]\n",
    "df_train = df[df.speaker.isin([0,1,2,3,4,5,6,7,8,9,12])]"
   ]
  },
  {
   "cell_type": "code",
   "execution_count": 722,
   "id": "af21a690",
   "metadata": {},
   "outputs": [
    {
     "data": {
      "text/plain": [
       "(726, 132, 264)"
      ]
     },
     "execution_count": 722,
     "metadata": {},
     "output_type": "execute_result"
    }
   ],
   "source": [
    "len(df_train), len(df_test)"
   ]
  },
  {
   "cell_type": "code",
   "execution_count": 700,
   "id": "47d704cc",
   "metadata": {},
   "outputs": [],
   "source": [
    "df_train = df_train.reset_index(drop=True)"
   ]
  },
  {
   "cell_type": "code",
   "execution_count": 701,
   "id": "67b7a4c2",
   "metadata": {},
   "outputs": [],
   "source": [
    "# df_val = df_val.reset_index(drop=True)"
   ]
  },
  {
   "cell_type": "code",
   "execution_count": 702,
   "id": "28f2ab93",
   "metadata": {},
   "outputs": [],
   "source": [
    "df_test = df_test.reset_index(drop=True)"
   ]
  },
  {
   "cell_type": "code",
   "execution_count": 703,
   "id": "563fd282",
   "metadata": {},
   "outputs": [],
   "source": [
    "y_train = df_train.vowel"
   ]
  },
  {
   "cell_type": "code",
   "execution_count": 704,
   "id": "0986ab0f",
   "metadata": {},
   "outputs": [],
   "source": [
    "# y_val = df_val.vowel"
   ]
  },
  {
   "cell_type": "code",
   "execution_count": 705,
   "id": "dd527e98",
   "metadata": {},
   "outputs": [],
   "source": [
    "y_test = df_test.vowel"
   ]
  },
  {
   "cell_type": "code",
   "execution_count": 706,
   "id": "9990d2ae",
   "metadata": {},
   "outputs": [],
   "source": [
    "del df_train['vowel']\n",
    "# del df_val['vowel']\n",
    "del df_test['vowel']"
   ]
  },
  {
   "cell_type": "code",
   "execution_count": 707,
   "id": "ba82e222",
   "metadata": {},
   "outputs": [],
   "source": [
    "from sklearn.linear_model import LogisticRegression\n",
    "from sklearn.ensemble import RandomForestClassifier\n",
    "from sklearn.ensemble import GradientBoostingClassifier\n",
    "from sklearn.metrics import roc_auc_score"
   ]
  },
  {
   "cell_type": "markdown",
   "id": "543a70bf",
   "metadata": {},
   "source": [
    "Try just doing one class - whether the vowel is 0 or not"
   ]
  },
  {
   "cell_type": "code",
   "execution_count": 708,
   "id": "0db555e7",
   "metadata": {},
   "outputs": [
    {
     "data": {
      "text/plain": [
       "594"
      ]
     },
     "execution_count": 708,
     "metadata": {},
     "output_type": "execute_result"
    }
   ],
   "source": [
    "len(y_train)"
   ]
  },
  {
   "cell_type": "code",
   "execution_count": 709,
   "id": "d3a38dcc",
   "metadata": {},
   "outputs": [
    {
     "name": "stderr",
     "output_type": "stream",
     "text": [
      "/home/mark/anaconda3/lib/python3.8/site-packages/sklearn/linear_model/_logistic.py:763: ConvergenceWarning: lbfgs failed to converge (status=1):\n",
      "STOP: TOTAL NO. of ITERATIONS REACHED LIMIT.\n",
      "\n",
      "Increase the number of iterations (max_iter) or scale the data as shown in:\n",
      "    https://scikit-learn.org/stable/modules/preprocessing.html\n",
      "Please also refer to the documentation for alternative solver options:\n",
      "    https://scikit-learn.org/stable/modules/linear_model.html#logistic-regression\n",
      "  n_iter_i = _check_optimize_result(\n"
     ]
    },
    {
     "data": {
      "text/plain": [
       "LogisticRegression(C=500, multi_class='multinomial')"
      ]
     },
     "execution_count": 709,
     "metadata": {},
     "output_type": "execute_result"
    }
   ],
   "source": [
    "lr = LogisticRegression(multi_class=\"multinomial\", C=500, max_iter = 100)\n",
    "lr.fit(df_train, y_train)"
   ]
  },
  {
   "cell_type": "code",
   "execution_count": 710,
   "id": "a0e0c305",
   "metadata": {},
   "outputs": [],
   "source": [
    "# y_preds = lr.predict_proba(df_val)"
   ]
  },
  {
   "cell_type": "code",
   "execution_count": 711,
   "id": "cad2ad4d",
   "metadata": {},
   "outputs": [
    {
     "data": {
      "text/plain": [
       "0.0"
      ]
     },
     "execution_count": 711,
     "metadata": {},
     "output_type": "execute_result"
    }
   ],
   "source": [
    "# (y_preds == y_val).mean()"
   ]
  },
  {
   "cell_type": "code",
   "execution_count": 712,
   "id": "bec49b64",
   "metadata": {},
   "outputs": [
    {
     "data": {
      "text/plain": [
       "array([[9.95223213e-01, 4.76239030e-03, 1.31371532e-05, ...,\n",
       "        1.40330429e-09, 2.12580658e-09, 1.25641434e-06],\n",
       "       [2.11220228e-01, 6.78092668e-02, 2.96582841e-01, ...,\n",
       "        3.93903190e-05, 1.09950430e-04, 4.20147480e-01],\n",
       "       [2.77402265e-13, 2.54816748e-11, 1.41123046e-06, ...,\n",
       "        1.90020988e-13, 7.52097292e-17, 2.64854167e-07],\n",
       "       ...,\n",
       "       [8.24816056e-14, 8.22805554e-10, 5.51049677e-08, ...,\n",
       "        7.88377633e-02, 7.13500999e-05, 4.26369023e-01],\n",
       "       [1.54384899e-15, 1.32099890e-10, 6.90749903e-11, ...,\n",
       "        1.49098447e-02, 2.66340626e-06, 3.62812456e-01],\n",
       "       [1.60983575e-14, 1.65613955e-08, 5.93500998e-06, ...,\n",
       "        7.11628965e-04, 7.17316735e-08, 4.88906414e-02]])"
      ]
     },
     "execution_count": 712,
     "metadata": {},
     "output_type": "execute_result"
    }
   ],
   "source": [
    "# y_preds"
   ]
  },
  {
   "cell_type": "code",
   "execution_count": 714,
   "id": "1adb24a7",
   "metadata": {},
   "outputs": [
    {
     "data": {
      "text/plain": [
       "array([0, 1, 2, 3, 4, 5, 6, 7, 8])"
      ]
     },
     "execution_count": 714,
     "metadata": {},
     "output_type": "execute_result"
    }
   ],
   "source": [
    "df_train['speaker'].unique()"
   ]
  },
  {
   "cell_type": "code",
   "execution_count": 715,
   "id": "88fa5c83",
   "metadata": {},
   "outputs": [],
   "source": [
    "def evaluate_model(model):\n",
    "    speakers = df_train['speaker'].unique()\n",
    "    model.fit(df_train, y_train)\n",
    "    y_preds = model.predict_proba(df_val)\n",
    "    return roc_auc_score(y_val, y_preds, multi_class='ovo')"
   ]
  },
  {
   "cell_type": "code",
   "execution_count": 716,
   "id": "23c12c27",
   "metadata": {},
   "outputs": [
    {
     "name": "stderr",
     "output_type": "stream",
     "text": [
      "/home/mark/anaconda3/lib/python3.8/site-packages/sklearn/linear_model/_logistic.py:763: ConvergenceWarning: lbfgs failed to converge (status=1):\n",
      "STOP: TOTAL NO. of ITERATIONS REACHED LIMIT.\n",
      "\n",
      "Increase the number of iterations (max_iter) or scale the data as shown in:\n",
      "    https://scikit-learn.org/stable/modules/preprocessing.html\n",
      "Please also refer to the documentation for alternative solver options:\n",
      "    https://scikit-learn.org/stable/modules/linear_model.html#logistic-regression\n",
      "  n_iter_i = _check_optimize_result(\n"
     ]
    },
    {
     "data": {
      "text/plain": [
       "0.8534722222222223"
      ]
     },
     "execution_count": 716,
     "metadata": {},
     "output_type": "execute_result"
    }
   ],
   "source": [
    "evaluate_model(lr)"
   ]
  },
  {
   "cell_type": "code",
   "execution_count": 717,
   "id": "ab1f9e9f",
   "metadata": {},
   "outputs": [],
   "source": [
    "rf = RandomForestClassifier()"
   ]
  },
  {
   "cell_type": "code",
   "execution_count": 718,
   "id": "db43e089",
   "metadata": {},
   "outputs": [
    {
     "data": {
      "text/plain": [
       "0.9317234848484849"
      ]
     },
     "execution_count": 718,
     "metadata": {},
     "output_type": "execute_result"
    }
   ],
   "source": [
    "evaluate_model(rf)"
   ]
  },
  {
   "cell_type": "code",
   "execution_count": 719,
   "id": "30b8d2f2",
   "metadata": {},
   "outputs": [],
   "source": [
    "gb = GradientBoostingClassifier()"
   ]
  },
  {
   "cell_type": "code",
   "execution_count": 720,
   "id": "5fab22eb",
   "metadata": {},
   "outputs": [
    {
     "data": {
      "text/plain": [
       "0.8775252525252527"
      ]
     },
     "execution_count": 720,
     "metadata": {},
     "output_type": "execute_result"
    }
   ],
   "source": [
    "evaluate_model(gb)"
   ]
  },
  {
   "cell_type": "markdown",
   "id": "6206f651",
   "metadata": {},
   "source": [
    "## Multi-class classification with Random Forest and Gradient Boosting"
   ]
  }
 ],
 "metadata": {
  "kernelspec": {
   "display_name": "Python 3",
   "language": "python",
   "name": "python3"
  },
  "language_info": {
   "codemirror_mode": {
    "name": "ipython",
    "version": 3
   },
   "file_extension": ".py",
   "mimetype": "text/x-python",
   "name": "python",
   "nbconvert_exporter": "python",
   "pygments_lexer": "ipython3",
   "version": "3.8.8"
  }
 },
 "nbformat": 4,
 "nbformat_minor": 5
}
