{
 "cells": [
  {
   "cell_type": "markdown",
   "id": "dd0d4a01",
   "metadata": {},
   "source": [
    "Data: http://archive.ics.uci.edu/ml/machine-learning-databases/undocumented/connectionist-bench/vowel/\n",
    "\n",
    "https://sci2s.ugr.es/keel/dataset.php?cod=113"
   ]
  },
  {
   "cell_type": "markdown",
   "id": "853fd146",
   "metadata": {},
   "source": [
    "* Thinking of a problem that's interesting for you and finding a dataset for that\n",
    "* Describing this problem and explaining how a model could be used\n",
    "* Preparing the data and doing EDA, analyzing important features\n",
    "* Training multiple models, tuning their performance and selecting the best model\n",
    "* Exporting the notebook into a script\n",
    "* Putting your model into a web service and deploying it locally with docker\n",
    "* Bonus points for deploying the service to the cloud"
   ]
  },
  {
   "cell_type": "code",
   "execution_count": 2,
   "id": "b310e5a8",
   "metadata": {},
   "outputs": [],
   "source": [
    "import pandas as pd\n",
    "import numpy as np\n",
    "import seaborn as sns\n",
    "pd.set_option('display.max_rows', 200)\n",
    "from statistics import mean\n"
   ]
  },
  {
   "cell_type": "code",
   "execution_count": 153,
   "id": "c71a5f5a",
   "metadata": {},
   "outputs": [
    {
     "data": {
      "text/html": [
       "<div>\n",
       "<style scoped>\n",
       "    .dataframe tbody tr th:only-of-type {\n",
       "        vertical-align: middle;\n",
       "    }\n",
       "\n",
       "    .dataframe tbody tr th {\n",
       "        vertical-align: top;\n",
       "    }\n",
       "\n",
       "    .dataframe thead th {\n",
       "        text-align: right;\n",
       "    }\n",
       "</style>\n",
       "<table border=\"1\" class=\"dataframe\">\n",
       "  <thead>\n",
       "    <tr style=\"text-align: right;\">\n",
       "      <th></th>\n",
       "      <th>train_test</th>\n",
       "      <th>speaker</th>\n",
       "      <th>sex</th>\n",
       "      <th>f0</th>\n",
       "      <th>f1</th>\n",
       "      <th>f2</th>\n",
       "      <th>f3</th>\n",
       "      <th>f4</th>\n",
       "      <th>f5</th>\n",
       "      <th>f6</th>\n",
       "      <th>f7</th>\n",
       "      <th>f8</th>\n",
       "      <th>f9</th>\n",
       "      <th>vowel</th>\n",
       "    </tr>\n",
       "  </thead>\n",
       "  <tbody>\n",
       "    <tr>\n",
       "      <th>0</th>\n",
       "      <td>0</td>\n",
       "      <td>0</td>\n",
       "      <td>0</td>\n",
       "      <td>-3.639</td>\n",
       "      <td>0.418</td>\n",
       "      <td>-0.670</td>\n",
       "      <td>1.779</td>\n",
       "      <td>-0.168</td>\n",
       "      <td>1.627</td>\n",
       "      <td>-0.388</td>\n",
       "      <td>0.529</td>\n",
       "      <td>-0.874</td>\n",
       "      <td>-0.814</td>\n",
       "      <td>0</td>\n",
       "    </tr>\n",
       "    <tr>\n",
       "      <th>1</th>\n",
       "      <td>0</td>\n",
       "      <td>0</td>\n",
       "      <td>0</td>\n",
       "      <td>-3.327</td>\n",
       "      <td>0.496</td>\n",
       "      <td>-0.694</td>\n",
       "      <td>1.365</td>\n",
       "      <td>-0.265</td>\n",
       "      <td>1.933</td>\n",
       "      <td>-0.363</td>\n",
       "      <td>0.510</td>\n",
       "      <td>-0.621</td>\n",
       "      <td>-0.488</td>\n",
       "      <td>1</td>\n",
       "    </tr>\n",
       "    <tr>\n",
       "      <th>2</th>\n",
       "      <td>0</td>\n",
       "      <td>0</td>\n",
       "      <td>0</td>\n",
       "      <td>-2.120</td>\n",
       "      <td>0.894</td>\n",
       "      <td>-1.576</td>\n",
       "      <td>0.147</td>\n",
       "      <td>-0.707</td>\n",
       "      <td>1.559</td>\n",
       "      <td>-0.579</td>\n",
       "      <td>0.676</td>\n",
       "      <td>-0.809</td>\n",
       "      <td>-0.049</td>\n",
       "      <td>2</td>\n",
       "    </tr>\n",
       "    <tr>\n",
       "      <th>3</th>\n",
       "      <td>0</td>\n",
       "      <td>0</td>\n",
       "      <td>0</td>\n",
       "      <td>-2.287</td>\n",
       "      <td>1.809</td>\n",
       "      <td>-1.498</td>\n",
       "      <td>1.012</td>\n",
       "      <td>-1.053</td>\n",
       "      <td>1.060</td>\n",
       "      <td>-0.567</td>\n",
       "      <td>0.235</td>\n",
       "      <td>-0.091</td>\n",
       "      <td>-0.795</td>\n",
       "      <td>3</td>\n",
       "    </tr>\n",
       "    <tr>\n",
       "      <th>4</th>\n",
       "      <td>0</td>\n",
       "      <td>0</td>\n",
       "      <td>0</td>\n",
       "      <td>-2.598</td>\n",
       "      <td>1.938</td>\n",
       "      <td>-0.846</td>\n",
       "      <td>1.062</td>\n",
       "      <td>-1.633</td>\n",
       "      <td>0.764</td>\n",
       "      <td>0.394</td>\n",
       "      <td>-0.150</td>\n",
       "      <td>0.277</td>\n",
       "      <td>-0.396</td>\n",
       "      <td>4</td>\n",
       "    </tr>\n",
       "    <tr>\n",
       "      <th>...</th>\n",
       "      <td>...</td>\n",
       "      <td>...</td>\n",
       "      <td>...</td>\n",
       "      <td>...</td>\n",
       "      <td>...</td>\n",
       "      <td>...</td>\n",
       "      <td>...</td>\n",
       "      <td>...</td>\n",
       "      <td>...</td>\n",
       "      <td>...</td>\n",
       "      <td>...</td>\n",
       "      <td>...</td>\n",
       "      <td>...</td>\n",
       "      <td>...</td>\n",
       "    </tr>\n",
       "    <tr>\n",
       "      <th>985</th>\n",
       "      <td>1</td>\n",
       "      <td>14</td>\n",
       "      <td>1</td>\n",
       "      <td>-3.239</td>\n",
       "      <td>3.083</td>\n",
       "      <td>-1.427</td>\n",
       "      <td>-0.202</td>\n",
       "      <td>-0.282</td>\n",
       "      <td>1.421</td>\n",
       "      <td>0.576</td>\n",
       "      <td>0.068</td>\n",
       "      <td>-0.914</td>\n",
       "      <td>0.147</td>\n",
       "      <td>6</td>\n",
       "    </tr>\n",
       "    <tr>\n",
       "      <th>986</th>\n",
       "      <td>1</td>\n",
       "      <td>14</td>\n",
       "      <td>1</td>\n",
       "      <td>-3.753</td>\n",
       "      <td>3.605</td>\n",
       "      <td>-0.899</td>\n",
       "      <td>-0.747</td>\n",
       "      <td>-0.401</td>\n",
       "      <td>1.765</td>\n",
       "      <td>0.620</td>\n",
       "      <td>0.754</td>\n",
       "      <td>-0.835</td>\n",
       "      <td>-0.301</td>\n",
       "      <td>7</td>\n",
       "    </tr>\n",
       "    <tr>\n",
       "      <th>987</th>\n",
       "      <td>1</td>\n",
       "      <td>14</td>\n",
       "      <td>1</td>\n",
       "      <td>-3.980</td>\n",
       "      <td>2.459</td>\n",
       "      <td>0.068</td>\n",
       "      <td>0.023</td>\n",
       "      <td>0.237</td>\n",
       "      <td>1.029</td>\n",
       "      <td>-0.189</td>\n",
       "      <td>0.521</td>\n",
       "      <td>-0.773</td>\n",
       "      <td>-0.500</td>\n",
       "      <td>8</td>\n",
       "    </tr>\n",
       "    <tr>\n",
       "      <th>988</th>\n",
       "      <td>1</td>\n",
       "      <td>14</td>\n",
       "      <td>1</td>\n",
       "      <td>-4.264</td>\n",
       "      <td>2.925</td>\n",
       "      <td>0.065</td>\n",
       "      <td>0.794</td>\n",
       "      <td>0.323</td>\n",
       "      <td>0.515</td>\n",
       "      <td>-1.282</td>\n",
       "      <td>-0.140</td>\n",
       "      <td>-0.863</td>\n",
       "      <td>-0.390</td>\n",
       "      <td>9</td>\n",
       "    </tr>\n",
       "    <tr>\n",
       "      <th>989</th>\n",
       "      <td>1</td>\n",
       "      <td>14</td>\n",
       "      <td>1</td>\n",
       "      <td>-3.291</td>\n",
       "      <td>2.324</td>\n",
       "      <td>-0.679</td>\n",
       "      <td>0.285</td>\n",
       "      <td>0.441</td>\n",
       "      <td>0.557</td>\n",
       "      <td>-0.227</td>\n",
       "      <td>0.115</td>\n",
       "      <td>-1.046</td>\n",
       "      <td>0.697</td>\n",
       "      <td>10</td>\n",
       "    </tr>\n",
       "  </tbody>\n",
       "</table>\n",
       "<p>990 rows × 14 columns</p>\n",
       "</div>"
      ],
      "text/plain": [
       "     train_test  speaker  sex     f0     f1     f2     f3     f4     f5  \\\n",
       "0             0        0    0 -3.639  0.418 -0.670  1.779 -0.168  1.627   \n",
       "1             0        0    0 -3.327  0.496 -0.694  1.365 -0.265  1.933   \n",
       "2             0        0    0 -2.120  0.894 -1.576  0.147 -0.707  1.559   \n",
       "3             0        0    0 -2.287  1.809 -1.498  1.012 -1.053  1.060   \n",
       "4             0        0    0 -2.598  1.938 -0.846  1.062 -1.633  0.764   \n",
       "..          ...      ...  ...    ...    ...    ...    ...    ...    ...   \n",
       "985           1       14    1 -3.239  3.083 -1.427 -0.202 -0.282  1.421   \n",
       "986           1       14    1 -3.753  3.605 -0.899 -0.747 -0.401  1.765   \n",
       "987           1       14    1 -3.980  2.459  0.068  0.023  0.237  1.029   \n",
       "988           1       14    1 -4.264  2.925  0.065  0.794  0.323  0.515   \n",
       "989           1       14    1 -3.291  2.324 -0.679  0.285  0.441  0.557   \n",
       "\n",
       "        f6     f7     f8     f9  vowel  \n",
       "0   -0.388  0.529 -0.874 -0.814      0  \n",
       "1   -0.363  0.510 -0.621 -0.488      1  \n",
       "2   -0.579  0.676 -0.809 -0.049      2  \n",
       "3   -0.567  0.235 -0.091 -0.795      3  \n",
       "4    0.394 -0.150  0.277 -0.396      4  \n",
       "..     ...    ...    ...    ...    ...  \n",
       "985  0.576  0.068 -0.914  0.147      6  \n",
       "986  0.620  0.754 -0.835 -0.301      7  \n",
       "987 -0.189  0.521 -0.773 -0.500      8  \n",
       "988 -1.282 -0.140 -0.863 -0.390      9  \n",
       "989 -0.227  0.115 -1.046  0.697     10  \n",
       "\n",
       "[990 rows x 14 columns]"
      ]
     },
     "execution_count": 153,
     "metadata": {},
     "output_type": "execute_result"
    }
   ],
   "source": [
    "df = pd.read_csv('vowels_data.csv')\n",
    "df"
   ]
  },
  {
   "cell_type": "code",
   "execution_count": 181,
   "id": "36ef6cb1",
   "metadata": {},
   "outputs": [],
   "source": [
    "df.drop(columns = \"train_test\", inplace = True)"
   ]
  },
  {
   "cell_type": "code",
   "execution_count": 5,
   "id": "66157377",
   "metadata": {},
   "outputs": [],
   "source": [
    "df_test = df[df.speaker.isin([10, 11, 13, 14])]  # Two male and two female in df_test"
   ]
  },
  {
   "cell_type": "code",
   "execution_count": 6,
   "id": "903542fa",
   "metadata": {},
   "outputs": [],
   "source": [
    "df_train = df[df.speaker.isin([0,1,2,3,4,5,6,7,8,9,12])]\n",
    "df_train = df_train.sample(frac=1).reset_index(drop=True)"
   ]
  },
  {
   "cell_type": "code",
   "execution_count": 7,
   "id": "0042bf86",
   "metadata": {},
   "outputs": [
    {
     "data": {
      "text/html": [
       "<div>\n",
       "<style scoped>\n",
       "    .dataframe tbody tr th:only-of-type {\n",
       "        vertical-align: middle;\n",
       "    }\n",
       "\n",
       "    .dataframe tbody tr th {\n",
       "        vertical-align: top;\n",
       "    }\n",
       "\n",
       "    .dataframe thead th {\n",
       "        text-align: right;\n",
       "    }\n",
       "</style>\n",
       "<table border=\"1\" class=\"dataframe\">\n",
       "  <thead>\n",
       "    <tr style=\"text-align: right;\">\n",
       "      <th></th>\n",
       "      <th>speaker</th>\n",
       "      <th>sex</th>\n",
       "      <th>f0</th>\n",
       "      <th>f1</th>\n",
       "      <th>f2</th>\n",
       "      <th>f3</th>\n",
       "      <th>f4</th>\n",
       "      <th>f5</th>\n",
       "      <th>f6</th>\n",
       "      <th>f7</th>\n",
       "      <th>f8</th>\n",
       "      <th>f9</th>\n",
       "      <th>vowel</th>\n",
       "    </tr>\n",
       "  </thead>\n",
       "  <tbody>\n",
       "    <tr>\n",
       "      <th>0</th>\n",
       "      <td>12</td>\n",
       "      <td>1</td>\n",
       "      <td>-3.439</td>\n",
       "      <td>1.007</td>\n",
       "      <td>0.020</td>\n",
       "      <td>1.491</td>\n",
       "      <td>0.777</td>\n",
       "      <td>0.257</td>\n",
       "      <td>-0.777</td>\n",
       "      <td>-0.282</td>\n",
       "      <td>-0.707</td>\n",
       "      <td>0.746</td>\n",
       "      <td>1</td>\n",
       "    </tr>\n",
       "    <tr>\n",
       "      <th>1</th>\n",
       "      <td>9</td>\n",
       "      <td>0</td>\n",
       "      <td>-4.074</td>\n",
       "      <td>4.187</td>\n",
       "      <td>-0.555</td>\n",
       "      <td>0.052</td>\n",
       "      <td>-1.603</td>\n",
       "      <td>0.730</td>\n",
       "      <td>-0.061</td>\n",
       "      <td>0.981</td>\n",
       "      <td>0.249</td>\n",
       "      <td>-0.250</td>\n",
       "      <td>7</td>\n",
       "    </tr>\n",
       "    <tr>\n",
       "      <th>2</th>\n",
       "      <td>9</td>\n",
       "      <td>0</td>\n",
       "      <td>-3.756</td>\n",
       "      <td>2.204</td>\n",
       "      <td>-0.716</td>\n",
       "      <td>0.529</td>\n",
       "      <td>-0.284</td>\n",
       "      <td>1.121</td>\n",
       "      <td>0.022</td>\n",
       "      <td>0.127</td>\n",
       "      <td>-0.782</td>\n",
       "      <td>-0.394</td>\n",
       "      <td>10</td>\n",
       "    </tr>\n",
       "    <tr>\n",
       "      <th>3</th>\n",
       "      <td>7</td>\n",
       "      <td>1</td>\n",
       "      <td>-5.105</td>\n",
       "      <td>1.968</td>\n",
       "      <td>1.140</td>\n",
       "      <td>1.719</td>\n",
       "      <td>-0.443</td>\n",
       "      <td>-0.432</td>\n",
       "      <td>-0.969</td>\n",
       "      <td>-0.173</td>\n",
       "      <td>0.551</td>\n",
       "      <td>0.176</td>\n",
       "      <td>0</td>\n",
       "    </tr>\n",
       "    <tr>\n",
       "      <th>4</th>\n",
       "      <td>12</td>\n",
       "      <td>1</td>\n",
       "      <td>-2.027</td>\n",
       "      <td>2.157</td>\n",
       "      <td>-0.297</td>\n",
       "      <td>-0.211</td>\n",
       "      <td>-0.266</td>\n",
       "      <td>0.086</td>\n",
       "      <td>-0.176</td>\n",
       "      <td>-0.179</td>\n",
       "      <td>-0.283</td>\n",
       "      <td>0.292</td>\n",
       "      <td>3</td>\n",
       "    </tr>\n",
       "  </tbody>\n",
       "</table>\n",
       "</div>"
      ],
      "text/plain": [
       "   speaker  sex     f0     f1     f2     f3     f4     f5     f6     f7  \\\n",
       "0       12    1 -3.439  1.007  0.020  1.491  0.777  0.257 -0.777 -0.282   \n",
       "1        9    0 -4.074  4.187 -0.555  0.052 -1.603  0.730 -0.061  0.981   \n",
       "2        9    0 -3.756  2.204 -0.716  0.529 -0.284  1.121  0.022  0.127   \n",
       "3        7    1 -5.105  1.968  1.140  1.719 -0.443 -0.432 -0.969 -0.173   \n",
       "4       12    1 -2.027  2.157 -0.297 -0.211 -0.266  0.086 -0.176 -0.179   \n",
       "\n",
       "      f8     f9  vowel  \n",
       "0 -0.707  0.746      1  \n",
       "1  0.249 -0.250      7  \n",
       "2 -0.782 -0.394     10  \n",
       "3  0.551  0.176      0  \n",
       "4 -0.283  0.292      3  "
      ]
     },
     "execution_count": 7,
     "metadata": {},
     "output_type": "execute_result"
    }
   ],
   "source": [
    "df_train.head()"
   ]
  },
  {
   "cell_type": "code",
   "execution_count": 8,
   "id": "4d7c86e6",
   "metadata": {},
   "outputs": [
    {
     "data": {
      "text/plain": [
       "speaker      int64\n",
       "sex          int64\n",
       "f0         float64\n",
       "f1         float64\n",
       "f2         float64\n",
       "f3         float64\n",
       "f4         float64\n",
       "f5         float64\n",
       "f6         float64\n",
       "f7         float64\n",
       "f8         float64\n",
       "f9         float64\n",
       "vowel        int64\n",
       "dtype: object"
      ]
     },
     "execution_count": 8,
     "metadata": {},
     "output_type": "execute_result"
    }
   ],
   "source": [
    "df_train.dtypes"
   ]
  },
  {
   "cell_type": "markdown",
   "id": "ed8b039c",
   "metadata": {},
   "source": [
    "It's tricky to know how to split the data for train/val/test. Although I have 990 rows of data, they are only spoken by 15 people, and it is reasonable to think that the person speaking is likely to have a significant impact on the data.\n",
    "\n",
    "If I were to split the 990 rows randomly, I would have data leakage from the test data into the training data, since some of the training data would come from the same people who also produced test data.\n",
    "\n",
    "Therefore I decided to split off the test data according to people. I chose two male and two female speakers to constitute the test data.\n",
    "\n",
    "I considered whether or not I should take a similar approach for the validation data. In the end I decided to use a manual cross-validation, where I held back one person from the training data each time to be used for validation, and then took the mean of the evaluation metrics."
   ]
  },
  {
   "cell_type": "markdown",
   "id": "cbaf3bc2",
   "metadata": {},
   "source": [
    "## Missing Values"
   ]
  },
  {
   "cell_type": "code",
   "execution_count": 9,
   "id": "2147dfc7",
   "metadata": {},
   "outputs": [
    {
     "data": {
      "text/plain": [
       "speaker    0\n",
       "sex        0\n",
       "f0         0\n",
       "f1         0\n",
       "f2         0\n",
       "f3         0\n",
       "f4         0\n",
       "f5         0\n",
       "f6         0\n",
       "f7         0\n",
       "f8         0\n",
       "f9         0\n",
       "vowel      0\n",
       "dtype: int64"
      ]
     },
     "execution_count": 9,
     "metadata": {},
     "output_type": "execute_result"
    }
   ],
   "source": [
    "df_train.isnull().sum()"
   ]
  },
  {
   "cell_type": "markdown",
   "id": "64874832",
   "metadata": {},
   "source": [
    "## Exploration of features"
   ]
  },
  {
   "cell_type": "code",
   "execution_count": 10,
   "id": "37338654",
   "metadata": {},
   "outputs": [
    {
     "data": {
      "text/plain": [
       "<AxesSubplot:>"
      ]
     },
     "execution_count": 10,
     "metadata": {},
     "output_type": "execute_result"
    },
    {
     "data": {
      "image/png": "[encoded data removed]",
      "text/plain": [
       "<Figure size 432x288 with 1 Axes>"
      ]
     },
     "metadata": {
      "needs_background": "light"
     },
     "output_type": "display_data"
    }
   ],
   "source": [
    "sns.boxplot(data = df_train[['f0', 'f1', 'f2', 'f3', 'f4', 'f5', 'f6', 'f7', 'f8', 'f9']])"
   ]
  },
  {
   "cell_type": "markdown",
   "id": "467f7839",
   "metadata": {},
   "source": [
    "We need to shuffle the rows, because they're currently in speaker and vowel order."
   ]
  },
  {
   "cell_type": "markdown",
   "id": "efef7f63",
   "metadata": {},
   "source": [
    "## Build and test some initial models"
   ]
  },
  {
   "cell_type": "code",
   "execution_count": 11,
   "id": "e9950bf2",
   "metadata": {},
   "outputs": [],
   "source": [
    "from sklearn.linear_model import LogisticRegression\n",
    "from sklearn.ensemble import RandomForestClassifier\n",
    "from sklearn.ensemble import GradientBoostingClassifier\n",
    "from sklearn.metrics import roc_auc_score"
   ]
  },
  {
   "cell_type": "code",
   "execution_count": 43,
   "id": "fcf9b4a3",
   "metadata": {},
   "outputs": [],
   "source": [
    "def evaluate_model(model, df_train = df_train):\n",
    "    speakers = df_train['speaker'].unique()\n",
    "    scores = []\n",
    "    accuracy = []\n",
    "    for speaker in speakers:\n",
    "        df_train = df_train.copy()\n",
    "        X_train = df_train[df_train['speaker'] != speaker]\n",
    "        X_val = df_train[df_train['speaker'] == speaker]\n",
    "        y_train = df_train.loc[df_train['speaker'] != speaker]['vowel']\n",
    "        y_val = df_train.loc[df_train['speaker'] == speaker]['vowel']\n",
    "        model.fit(X_train.loc[:, X_train.columns != 'vowel'], y_train)\n",
    "        y_preds = model.predict_proba(X_val.loc[:, X_val.columns != 'vowel'])\n",
    "        scores.append(roc_auc_score(y_val, y_preds, multi_class='ovo'))\n",
    "#     print(f'Scores: {scores}\\nMean: {mean(scores)}')\n",
    "    return mean(scores)"
   ]
  },
  {
   "cell_type": "code",
   "execution_count": 13,
   "id": "fb51ac61",
   "metadata": {},
   "outputs": [
    {
     "name": "stderr",
     "output_type": "stream",
     "text": [
      "/home/mark/anaconda3/lib/python3.8/site-packages/sklearn/linear_model/_sag.py:328: ConvergenceWarning: The max_iter was reached which means the coef_ did not converge\n",
      "  warnings.warn(\"The max_iter was reached which means \"\n",
      "/home/mark/anaconda3/lib/python3.8/site-packages/sklearn/linear_model/_sag.py:328: ConvergenceWarning: The max_iter was reached which means the coef_ did not converge\n",
      "  warnings.warn(\"The max_iter was reached which means \"\n",
      "/home/mark/anaconda3/lib/python3.8/site-packages/sklearn/linear_model/_sag.py:328: ConvergenceWarning: The max_iter was reached which means the coef_ did not converge\n",
      "  warnings.warn(\"The max_iter was reached which means \"\n",
      "/home/mark/anaconda3/lib/python3.8/site-packages/sklearn/linear_model/_sag.py:328: ConvergenceWarning: The max_iter was reached which means the coef_ did not converge\n",
      "  warnings.warn(\"The max_iter was reached which means \"\n",
      "/home/mark/anaconda3/lib/python3.8/site-packages/sklearn/linear_model/_sag.py:328: ConvergenceWarning: The max_iter was reached which means the coef_ did not converge\n",
      "  warnings.warn(\"The max_iter was reached which means \"\n",
      "/home/mark/anaconda3/lib/python3.8/site-packages/sklearn/linear_model/_sag.py:328: ConvergenceWarning: The max_iter was reached which means the coef_ did not converge\n",
      "  warnings.warn(\"The max_iter was reached which means \"\n",
      "/home/mark/anaconda3/lib/python3.8/site-packages/sklearn/linear_model/_sag.py:328: ConvergenceWarning: The max_iter was reached which means the coef_ did not converge\n",
      "  warnings.warn(\"The max_iter was reached which means \"\n",
      "/home/mark/anaconda3/lib/python3.8/site-packages/sklearn/linear_model/_sag.py:328: ConvergenceWarning: The max_iter was reached which means the coef_ did not converge\n",
      "  warnings.warn(\"The max_iter was reached which means \"\n",
      "/home/mark/anaconda3/lib/python3.8/site-packages/sklearn/linear_model/_sag.py:328: ConvergenceWarning: The max_iter was reached which means the coef_ did not converge\n",
      "  warnings.warn(\"The max_iter was reached which means \"\n",
      "/home/mark/anaconda3/lib/python3.8/site-packages/sklearn/linear_model/_sag.py:328: ConvergenceWarning: The max_iter was reached which means the coef_ did not converge\n",
      "  warnings.warn(\"The max_iter was reached which means \"\n",
      "/home/mark/anaconda3/lib/python3.8/site-packages/sklearn/linear_model/_sag.py:328: ConvergenceWarning: The max_iter was reached which means the coef_ did not converge\n",
      "  warnings.warn(\"The max_iter was reached which means \"\n"
     ]
    },
    {
     "name": "stdout",
     "output_type": "stream",
     "text": [
      "AUC: (0.8973599632690542, 0)\n"
     ]
    }
   ],
   "source": [
    "lr = LogisticRegression(multi_class=\"multinomial\", solver='saga')\n",
    "print(f'AUC: {evaluate_model(lr)}')"
   ]
  },
  {
   "cell_type": "code",
   "execution_count": 45,
   "id": "ce30a34a",
   "metadata": {},
   "outputs": [
    {
     "name": "stdout",
     "output_type": "stream",
     "text": [
      "AUC: 0.9470844811753902\n"
     ]
    }
   ],
   "source": [
    "rf = RandomForestClassifier()\n",
    "print(f'AUC: {evaluate_model(rf)}')"
   ]
  },
  {
   "cell_type": "code",
   "execution_count": 46,
   "id": "39023505",
   "metadata": {},
   "outputs": [
    {
     "name": "stdout",
     "output_type": "stream",
     "text": [
      "AUC: 0.8933884297520661\n"
     ]
    }
   ],
   "source": [
    "gb = GradientBoostingClassifier()\n",
    "print(f'AUC: {evaluate_model(gb)}')"
   ]
  },
  {
   "cell_type": "markdown",
   "id": "8e32cfe6",
   "metadata": {},
   "source": [
    "## Tuning Hyperparameters"
   ]
  },
  {
   "cell_type": "markdown",
   "id": "95dfad9b",
   "metadata": {},
   "source": [
    "### Random Forest"
   ]
  },
  {
   "cell_type": "code",
   "execution_count": 810,
   "id": "0f4cb9e2",
   "metadata": {},
   "outputs": [],
   "source": [
    "n_estimators_list = [25, 50, 100, 200, 400, 800, 1600]"
   ]
  },
  {
   "cell_type": "code",
   "execution_count": 809,
   "id": "275d2e21",
   "metadata": {},
   "outputs": [
    {
     "name": "stdout",
     "output_type": "stream",
     "text": [
      "n_esimators: 25, \t AUC: 0.9179866850321396\n",
      "n_esimators: 50, \t AUC: 0.9319214876033058\n",
      "n_esimators: 100, \t AUC: 0.9462350780532599\n"
     ]
    }
   ],
   "source": [
    "for n in n_estimators_list:\n",
    "    rf = RandomForestClassifier(n_estimators=n)\n",
    "    print(f'n_esimators: {n} \\t AUC: {evaluate_model(rf)}')"
   ]
  },
  {
   "cell_type": "code",
   "execution_count": 815,
   "id": "c9b8029c",
   "metadata": {},
   "outputs": [],
   "source": [
    "max_depth_list = [10, 15, 20, 30, 50]"
   ]
  },
  {
   "cell_type": "code",
   "execution_count": 816,
   "id": "cf1dda1e",
   "metadata": {},
   "outputs": [
    {
     "name": "stdout",
     "output_type": "stream",
     "text": [
      "max_depth: 10 \t AUC: 0.948014233241506\n",
      "max_depth: 15 \t AUC: 0.951848025711662\n",
      "max_depth: 20 \t AUC: 0.9483815426997245\n",
      "max_depth: 30 \t AUC: 0.9495867768595042\n",
      "max_depth: 50 \t AUC: 0.951320018365473\n"
     ]
    }
   ],
   "source": [
    "for m in max_depth_list:\n",
    "    rf = RandomForestClassifier(n_estimators=400, max_depth=m)\n",
    "    print(f'max_depth: {m} \\t AUC: {evaluate_model(rf)}')"
   ]
  },
  {
   "cell_type": "code",
   "execution_count": null,
   "id": "a44d540a",
   "metadata": {},
   "outputs": [],
   "source": [
    "for m in max_depth_list:\n",
    "    rf = RandomForestClassifier(n_estimators=400, max_depth=15)\n",
    "    print(f'max_depth: {m} \\t AUC: {evaluate_model(rf)}')"
   ]
  },
  {
   "cell_type": "markdown",
   "id": "17f86d04",
   "metadata": {},
   "source": [
    "## Test Example"
   ]
  },
  {
   "cell_type": "code",
   "execution_count": 179,
   "id": "1fd783d4",
   "metadata": {},
   "outputs": [
    {
     "data": {
      "text/plain": [
       "{'speaker': {661: 10},\n",
       " 'sex': {661: 0},\n",
       " 'f0': {661: -2.966},\n",
       " 'f1': {661: 0.659},\n",
       " 'f2': {661: -1.057},\n",
       " 'f3': {661: 1.36},\n",
       " 'f4': {661: 0.152},\n",
       " 'f5': {661: 1.435},\n",
       " 'f6': {661: 0.197},\n",
       " 'f7': {661: 0.926},\n",
       " 'f8': {661: -0.45},\n",
       " 'f9': {661: -0.637}}"
      ]
     },
     "execution_count": 179,
     "metadata": {},
     "output_type": "execute_result"
    }
   ],
   "source": [
    "vowel = {'speaker': 16, 'sex': [1], 'f0': [0], 'f1': [0], 'f2': [0], 'f3': [0], 'f4': [0], 'f5': [0], 'f6': [0], 'f7': [0], 'f8':[0], 'f9':[0]}\n",
    "vowel_df = pd.DataFrame.from_dict(vowel)\n",
    "\n",
    "df_test = df_test.loc[:, df_test.columns != 'vowel']\n",
    "example_1 = df_test.iloc[[1,]]\n",
    "example_1 = example_1.to_dict()\n",
    "example_1"
   ]
  },
  {
   "cell_type": "code",
   "execution_count": 118,
   "id": "e4370a14",
   "metadata": {},
   "outputs": [
    {
     "data": {
      "text/plain": [
       "2"
      ]
     },
     "execution_count": 118,
     "metadata": {},
     "output_type": "execute_result"
    }
   ],
   "source": [
    "rf.predict(vowel_df)[0]"
   ]
  },
  {
   "cell_type": "code",
   "execution_count": 84,
   "id": "80f275bb",
   "metadata": {},
   "outputs": [
    {
     "data": {
      "text/plain": [
       "array([ 0,  2,  5,  3,  4,  4,  6,  7,  8,  9, 10,  0,  2,  5,  5,  6,  4,\n",
       "        6,  7,  8,  9, 10,  0,  2,  5,  3,  4,  4,  6,  7,  8,  9, 10,  0,\n",
       "        2,  5,  3,  4,  5,  6,  7,  8,  9, 10,  0,  0,  2,  5,  6,  5,  4,\n",
       "        7,  8,  9, 10,  0,  0, 10,  5,  4,  5,  4,  7,  8,  9, 10,  0,  2,\n",
       "        3,  3,  5,  5,  6,  8,  8,  1, 10,  0,  2,  2,  3,  5,  5,  6,  8,\n",
       "        7,  1, 10,  0,  2,  2,  3,  5,  5,  6,  8,  8,  1, 10,  0,  2,  2,\n",
       "        3,  5,  5,  6,  8,  8,  1, 10,  0,  2,  2,  3,  5, 10,  6,  8,  8,\n",
       "        1, 10,  0,  2,  2,  3,  5, 10,  6,  8,  8,  9, 10,  1,  1,  2,  5,\n",
       "        4, 10,  8,  8, 10,  1,  1,  0,  1,  2,  5,  4, 10,  8,  8, 10,  1,\n",
       "       10,  0,  1,  2,  5,  4, 10,  8,  8, 10,  1, 10,  0,  1,  2,  5,  4,\n",
       "       10,  8,  8, 10,  1, 10,  0,  1,  6,  5,  4, 10,  8,  8, 10,  1, 10,\n",
       "        0,  1,  2,  5,  4, 10,  8,  8, 10,  1, 10,  1,  1,  2,  2,  4,  4,\n",
       "        6,  7,  8,  1, 10,  1,  1,  2,  5,  4,  5,  6,  7,  8, 10, 10,  0,\n",
       "        1,  1,  5,  4,  5,  6,  7,  8, 10, 10,  0,  1,  1,  3,  4,  5,  6,\n",
       "        7,  8, 10, 10,  0,  1,  1,  5,  4,  5,  6,  7,  8, 10, 10,  0,  1,\n",
       "        1,  2,  4,  5,  6,  7,  8,  8, 10])"
      ]
     },
     "execution_count": 84,
     "metadata": {},
     "output_type": "execute_result"
    }
   ],
   "source": [
    "rf.predict(df_test.loc[:, df_test.columns != 'vowel'])"
   ]
  },
  {
   "cell_type": "code",
   "execution_count": 85,
   "id": "d8de2fd1",
   "metadata": {},
   "outputs": [
    {
     "data": {
      "text/html": [
       "<div>\n",
       "<style scoped>\n",
       "    .dataframe tbody tr th:only-of-type {\n",
       "        vertical-align: middle;\n",
       "    }\n",
       "\n",
       "    .dataframe tbody tr th {\n",
       "        vertical-align: top;\n",
       "    }\n",
       "\n",
       "    .dataframe thead th {\n",
       "        text-align: right;\n",
       "    }\n",
       "</style>\n",
       "<table border=\"1\" class=\"dataframe\">\n",
       "  <thead>\n",
       "    <tr style=\"text-align: right;\">\n",
       "      <th></th>\n",
       "      <th>speaker</th>\n",
       "      <th>sex</th>\n",
       "      <th>f0</th>\n",
       "      <th>f1</th>\n",
       "      <th>f2</th>\n",
       "      <th>f3</th>\n",
       "      <th>f4</th>\n",
       "      <th>f5</th>\n",
       "      <th>f6</th>\n",
       "      <th>f7</th>\n",
       "      <th>f8</th>\n",
       "      <th>f9</th>\n",
       "    </tr>\n",
       "  </thead>\n",
       "  <tbody>\n",
       "    <tr>\n",
       "      <th>660</th>\n",
       "      <td>10</td>\n",
       "      <td>0</td>\n",
       "      <td>-4.066</td>\n",
       "      <td>0.398</td>\n",
       "      <td>-0.382</td>\n",
       "      <td>1.679</td>\n",
       "      <td>0.121</td>\n",
       "      <td>1.617</td>\n",
       "      <td>0.504</td>\n",
       "      <td>-0.315</td>\n",
       "      <td>-0.226</td>\n",
       "      <td>-0.873</td>\n",
       "    </tr>\n",
       "    <tr>\n",
       "      <th>661</th>\n",
       "      <td>10</td>\n",
       "      <td>0</td>\n",
       "      <td>-2.966</td>\n",
       "      <td>0.659</td>\n",
       "      <td>-1.057</td>\n",
       "      <td>1.360</td>\n",
       "      <td>0.152</td>\n",
       "      <td>1.435</td>\n",
       "      <td>0.197</td>\n",
       "      <td>0.926</td>\n",
       "      <td>-0.450</td>\n",
       "      <td>-0.637</td>\n",
       "    </tr>\n",
       "    <tr>\n",
       "      <th>662</th>\n",
       "      <td>10</td>\n",
       "      <td>0</td>\n",
       "      <td>-2.695</td>\n",
       "      <td>1.119</td>\n",
       "      <td>-0.986</td>\n",
       "      <td>0.172</td>\n",
       "      <td>0.499</td>\n",
       "      <td>0.372</td>\n",
       "      <td>0.088</td>\n",
       "      <td>0.630</td>\n",
       "      <td>-0.721</td>\n",
       "      <td>-0.256</td>\n",
       "    </tr>\n",
       "    <tr>\n",
       "      <th>663</th>\n",
       "      <td>10</td>\n",
       "      <td>0</td>\n",
       "      <td>-2.482</td>\n",
       "      <td>1.896</td>\n",
       "      <td>-1.289</td>\n",
       "      <td>0.112</td>\n",
       "      <td>0.285</td>\n",
       "      <td>0.096</td>\n",
       "      <td>0.022</td>\n",
       "      <td>0.832</td>\n",
       "      <td>-0.333</td>\n",
       "      <td>-0.764</td>\n",
       "    </tr>\n",
       "    <tr>\n",
       "      <th>664</th>\n",
       "      <td>10</td>\n",
       "      <td>0</td>\n",
       "      <td>-2.742</td>\n",
       "      <td>2.729</td>\n",
       "      <td>-0.129</td>\n",
       "      <td>-0.490</td>\n",
       "      <td>-0.573</td>\n",
       "      <td>0.868</td>\n",
       "      <td>0.070</td>\n",
       "      <td>0.771</td>\n",
       "      <td>0.053</td>\n",
       "      <td>-0.939</td>\n",
       "    </tr>\n",
       "    <tr>\n",
       "      <th>...</th>\n",
       "      <td>...</td>\n",
       "      <td>...</td>\n",
       "      <td>...</td>\n",
       "      <td>...</td>\n",
       "      <td>...</td>\n",
       "      <td>...</td>\n",
       "      <td>...</td>\n",
       "      <td>...</td>\n",
       "      <td>...</td>\n",
       "      <td>...</td>\n",
       "      <td>...</td>\n",
       "      <td>...</td>\n",
       "    </tr>\n",
       "    <tr>\n",
       "      <th>985</th>\n",
       "      <td>14</td>\n",
       "      <td>1</td>\n",
       "      <td>-3.239</td>\n",
       "      <td>3.083</td>\n",
       "      <td>-1.427</td>\n",
       "      <td>-0.202</td>\n",
       "      <td>-0.282</td>\n",
       "      <td>1.421</td>\n",
       "      <td>0.576</td>\n",
       "      <td>0.068</td>\n",
       "      <td>-0.914</td>\n",
       "      <td>0.147</td>\n",
       "    </tr>\n",
       "    <tr>\n",
       "      <th>986</th>\n",
       "      <td>14</td>\n",
       "      <td>1</td>\n",
       "      <td>-3.753</td>\n",
       "      <td>3.605</td>\n",
       "      <td>-0.899</td>\n",
       "      <td>-0.747</td>\n",
       "      <td>-0.401</td>\n",
       "      <td>1.765</td>\n",
       "      <td>0.620</td>\n",
       "      <td>0.754</td>\n",
       "      <td>-0.835</td>\n",
       "      <td>-0.301</td>\n",
       "    </tr>\n",
       "    <tr>\n",
       "      <th>987</th>\n",
       "      <td>14</td>\n",
       "      <td>1</td>\n",
       "      <td>-3.980</td>\n",
       "      <td>2.459</td>\n",
       "      <td>0.068</td>\n",
       "      <td>0.023</td>\n",
       "      <td>0.237</td>\n",
       "      <td>1.029</td>\n",
       "      <td>-0.189</td>\n",
       "      <td>0.521</td>\n",
       "      <td>-0.773</td>\n",
       "      <td>-0.500</td>\n",
       "    </tr>\n",
       "    <tr>\n",
       "      <th>988</th>\n",
       "      <td>14</td>\n",
       "      <td>1</td>\n",
       "      <td>-4.264</td>\n",
       "      <td>2.925</td>\n",
       "      <td>0.065</td>\n",
       "      <td>0.794</td>\n",
       "      <td>0.323</td>\n",
       "      <td>0.515</td>\n",
       "      <td>-1.282</td>\n",
       "      <td>-0.140</td>\n",
       "      <td>-0.863</td>\n",
       "      <td>-0.390</td>\n",
       "    </tr>\n",
       "    <tr>\n",
       "      <th>989</th>\n",
       "      <td>14</td>\n",
       "      <td>1</td>\n",
       "      <td>-3.291</td>\n",
       "      <td>2.324</td>\n",
       "      <td>-0.679</td>\n",
       "      <td>0.285</td>\n",
       "      <td>0.441</td>\n",
       "      <td>0.557</td>\n",
       "      <td>-0.227</td>\n",
       "      <td>0.115</td>\n",
       "      <td>-1.046</td>\n",
       "      <td>0.697</td>\n",
       "    </tr>\n",
       "  </tbody>\n",
       "</table>\n",
       "<p>264 rows × 12 columns</p>\n",
       "</div>"
      ],
      "text/plain": [
       "     speaker  sex     f0     f1     f2     f3     f4     f5     f6     f7  \\\n",
       "660       10    0 -4.066  0.398 -0.382  1.679  0.121  1.617  0.504 -0.315   \n",
       "661       10    0 -2.966  0.659 -1.057  1.360  0.152  1.435  0.197  0.926   \n",
       "662       10    0 -2.695  1.119 -0.986  0.172  0.499  0.372  0.088  0.630   \n",
       "663       10    0 -2.482  1.896 -1.289  0.112  0.285  0.096  0.022  0.832   \n",
       "664       10    0 -2.742  2.729 -0.129 -0.490 -0.573  0.868  0.070  0.771   \n",
       "..       ...  ...    ...    ...    ...    ...    ...    ...    ...    ...   \n",
       "985       14    1 -3.239  3.083 -1.427 -0.202 -0.282  1.421  0.576  0.068   \n",
       "986       14    1 -3.753  3.605 -0.899 -0.747 -0.401  1.765  0.620  0.754   \n",
       "987       14    1 -3.980  2.459  0.068  0.023  0.237  1.029 -0.189  0.521   \n",
       "988       14    1 -4.264  2.925  0.065  0.794  0.323  0.515 -1.282 -0.140   \n",
       "989       14    1 -3.291  2.324 -0.679  0.285  0.441  0.557 -0.227  0.115   \n",
       "\n",
       "        f8     f9  \n",
       "660 -0.226 -0.873  \n",
       "661 -0.450 -0.637  \n",
       "662 -0.721 -0.256  \n",
       "663 -0.333 -0.764  \n",
       "664  0.053 -0.939  \n",
       "..     ...    ...  \n",
       "985 -0.914  0.147  \n",
       "986 -0.835 -0.301  \n",
       "987 -0.773 -0.500  \n",
       "988 -0.863 -0.390  \n",
       "989 -1.046  0.697  \n",
       "\n",
       "[264 rows x 12 columns]"
      ]
     },
     "execution_count": 85,
     "metadata": {},
     "output_type": "execute_result"
    }
   ],
   "source": [
    "df_test.loc[:, df_test.columns != 'vowel']"
   ]
  },
  {
   "cell_type": "markdown",
   "id": "b97f4f12",
   "metadata": {},
   "source": [
    "## Exporting the Model"
   ]
  },
  {
   "cell_type": "code",
   "execution_count": 108,
   "id": "a7d1fab8",
   "metadata": {},
   "outputs": [
    {
     "data": {
      "text/plain": [
       "RandomForestClassifier(max_depth=15, n_estimators=400)"
      ]
     },
     "execution_count": 108,
     "metadata": {},
     "output_type": "execute_result"
    }
   ],
   "source": [
    "model = RandomForestClassifier(n_estimators=400, max_depth=15)\n",
    "model.fit(df_train.loc[:, df_train.columns != 'vowel'], df_train['vowel'])"
   ]
  },
  {
   "cell_type": "code",
   "execution_count": 109,
   "id": "be7b69e5",
   "metadata": {},
   "outputs": [],
   "source": [
    "import pickle \n",
    "\n",
    "with open('vowel-model.bin', 'wb') as f_out:\n",
    "    pickle.dump((model), f_out)"
   ]
  },
  {
   "cell_type": "code",
   "execution_count": 180,
   "id": "d061d27a",
   "metadata": {},
   "outputs": [
    {
     "data": {
      "text/plain": [
       "{'Prediction': 2}"
      ]
     },
     "execution_count": 180,
     "metadata": {},
     "output_type": "execute_result"
    }
   ],
   "source": [
    "import requests\n",
    "url = 'http://localhost:9696/predict'\n",
    "response = requests.post(url, json=example_1)\n",
    "result = response.json()\n",
    "result"
   ]
  }
 ],
 "metadata": {
  "kernelspec": {
   "display_name": "Python 3",
   "language": "python",
   "name": "python3"
  },
  "language_info": {
   "codemirror_mode": {
    "name": "ipython",
    "version": 3
   },
   "file_extension": ".py",
   "mimetype": "text/x-python",
   "name": "python",
   "nbconvert_exporter": "python",
   "pygments_lexer": "ipython3",
   "version": "3.8.8"
  }
 },
 "nbformat": 4,
 "nbformat_minor": 5
}
