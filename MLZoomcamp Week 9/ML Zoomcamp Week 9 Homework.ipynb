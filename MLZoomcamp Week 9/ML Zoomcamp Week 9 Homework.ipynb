{
 "cells": [
  {
   "cell_type": "code",
   "execution_count": 1,
   "id": "6f27b8ec",
   "metadata": {},
   "outputs": [
    {
     "name": "stdout",
     "output_type": "stream",
     "text": [
      "Python 3.9.5\r\n"
     ]
    }
   ],
   "source": [
    "!python -V"
   ]
  },
  {
   "cell_type": "code",
   "execution_count": 2,
   "id": "917bbd2e",
   "metadata": {},
   "outputs": [
    {
     "name": "stderr",
     "output_type": "stream",
     "text": [
      "2021-11-28 13:59:48.787055: W tensorflow/stream_executor/platform/default/dso_loader.cc:64] Could not load dynamic library 'libcudart.so.11.0'; dlerror: libcudart.so.11.0: cannot open shared object file: No such file or directory\n",
      "2021-11-28 13:59:48.787091: I tensorflow/stream_executor/cuda/cudart_stub.cc:29] Ignore above cudart dlerror if you do not have a GPU set up on your machine.\n"
     ]
    },
    {
     "data": {
      "text/plain": [
       "'2.7.0'"
      ]
     },
     "execution_count": 2,
     "metadata": {},
     "output_type": "execute_result"
    }
   ],
   "source": [
    "import numpy as np\n",
    "\n",
    "import tensorflow as tf\n",
    "from tensorflow import keras\n",
    "\n",
    "tf.__version__"
   ]
  },
  {
   "cell_type": "code",
   "execution_count": 7,
   "id": "11f73f5b",
   "metadata": {},
   "outputs": [
    {
     "name": "stderr",
     "output_type": "stream",
     "text": [
      "2021-11-28 14:02:03.752427: W tensorflow/stream_executor/platform/default/dso_loader.cc:64] Could not load dynamic library 'libcuda.so.1'; dlerror: libcuda.so.1: cannot open shared object file: No such file or directory\n",
      "2021-11-28 14:02:03.752455: W tensorflow/stream_executor/cuda/cuda_driver.cc:269] failed call to cuInit: UNKNOWN ERROR (303)\n",
      "2021-11-28 14:02:03.752481: I tensorflow/stream_executor/cuda/cuda_diagnostics.cc:156] kernel driver does not appear to be running on this host (mark-laptop): /proc/driver/nvidia/version does not exist\n",
      "2021-11-28 14:02:03.753177: I tensorflow/core/platform/cpu_feature_guard.cc:151] This TensorFlow binary is optimized with oneAPI Deep Neural Network Library (oneDNN) to use the following CPU instructions in performance-critical operations:  AVX2 FMA\n",
      "To enable them in other operations, rebuild TensorFlow with the appropriate compiler flags.\n",
      "2021-11-28 14:02:03.819277: W tensorflow/core/framework/cpu_allocator_impl.cc:82] Allocation of 44859392 exceeds 10% of free system memory.\n",
      "2021-11-28 14:02:03.859332: W tensorflow/core/framework/cpu_allocator_impl.cc:82] Allocation of 44859392 exceeds 10% of free system memory.\n",
      "2021-11-28 14:02:03.887112: W tensorflow/core/framework/cpu_allocator_impl.cc:82] Allocation of 44859392 exceeds 10% of free system memory.\n",
      "2021-11-28 14:02:04.084169: W tensorflow/core/framework/cpu_allocator_impl.cc:82] Allocation of 44859392 exceeds 10% of free system memory.\n",
      "2021-11-28 14:02:04.138665: W tensorflow/core/framework/cpu_allocator_impl.cc:82] Allocation of 44859392 exceeds 10% of free system memory.\n"
     ]
    }
   ],
   "source": [
    "model = keras.models.load_model('dogs_cats_10_0.687.h5')"
   ]
  },
  {
   "cell_type": "code",
   "execution_count": 8,
   "id": "7575f080",
   "metadata": {},
   "outputs": [],
   "source": [
    "converter = tf.lite.TFLiteConverter.from_keras_model(model)"
   ]
  },
  {
   "cell_type": "code",
   "execution_count": 9,
   "id": "10344646",
   "metadata": {},
   "outputs": [
    {
     "name": "stderr",
     "output_type": "stream",
     "text": [
      "2021-11-28 14:02:10.371644: W tensorflow/python/util/util.cc:368] Sets are not currently considered sequences, but this may change in the future, so consider avoiding using them.\n"
     ]
    },
    {
     "name": "stdout",
     "output_type": "stream",
     "text": [
      "INFO:tensorflow:Assets written to: /tmp/tmpmx_f0yfp/assets\n"
     ]
    },
    {
     "name": "stderr",
     "output_type": "stream",
     "text": [
      "2021-11-28 14:02:11.502595: W tensorflow/compiler/mlir/lite/python/tf_tfl_flatbuffer_helpers.cc:363] Ignored output_format.\n",
      "2021-11-28 14:02:11.502650: W tensorflow/compiler/mlir/lite/python/tf_tfl_flatbuffer_helpers.cc:366] Ignored drop_control_dependency.\n",
      "2021-11-28 14:02:11.504103: I tensorflow/cc/saved_model/reader.cc:43] Reading SavedModel from: /tmp/tmpmx_f0yfp\n",
      "2021-11-28 14:02:11.506539: I tensorflow/cc/saved_model/reader.cc:107] Reading meta graph with tags { serve }\n",
      "2021-11-28 14:02:11.506566: I tensorflow/cc/saved_model/reader.cc:148] Reading SavedModel debug info (if present) from: /tmp/tmpmx_f0yfp\n",
      "2021-11-28 14:02:11.515349: I tensorflow/cc/saved_model/loader.cc:210] Restoring SavedModel bundle.\n",
      "2021-11-28 14:02:11.729922: I tensorflow/cc/saved_model/loader.cc:194] Running initialization op on SavedModel bundle at path: /tmp/tmpmx_f0yfp\n",
      "2021-11-28 14:02:11.750413: I tensorflow/cc/saved_model/loader.cc:283] SavedModel load for tags { serve }; Status: success: OK. Took 246599 microseconds.\n",
      "2021-11-28 14:02:11.793575: I tensorflow/compiler/mlir/tensorflow/utils/dump_mlir_util.cc:237] disabling MLIR crash reproducer, set env var `MLIR_CRASH_REPRODUCER_DIRECTORY` to enable.\n",
      "WARNING:absl:Buffer deduplication procedure will be skipped when flatbuffer library is not properly loaded\n"
     ]
    }
   ],
   "source": [
    "tflite_model = converter.convert()"
   ]
  },
  {
   "cell_type": "code",
   "execution_count": 11,
   "id": "d8cfb211",
   "metadata": {},
   "outputs": [],
   "source": [
    "with open('dogs_cats-model.tflite', 'wb') as f_out:\n",
    "    f_out.write(tflite_model)"
   ]
  },
  {
   "cell_type": "code",
   "execution_count": 12,
   "id": "6b4f5f5a",
   "metadata": {},
   "outputs": [
    {
     "name": "stdout",
     "output_type": "stream",
     "text": [
      "total 129M\r\n",
      "-rw-rw-r-- 1 mark mark  86M Nov 25 07:02  dogs_cats_10_0.687.h5\r\n",
      "-rw-rw-r-- 1 mark mark  43M Nov 28 14:04  dogs_cats-model.tflite\r\n",
      "-rw-rw-r-- 1 mark mark 6.0K Nov 28 14:03 'ML Zoomcamp Week 9 Homework.ipynb'\r\n"
     ]
    }
   ],
   "source": [
    "!ls -lh"
   ]
  },
  {
   "cell_type": "code",
   "execution_count": 14,
   "id": "67267af3",
   "metadata": {},
   "outputs": [],
   "source": [
    "import tensorflow.lite as tflite"
   ]
  },
  {
   "cell_type": "code",
   "execution_count": 15,
   "id": "9b559bae",
   "metadata": {},
   "outputs": [],
   "source": [
    "interpreter = tflite.Interpreter(model_path='dogs_cats-model.tflite')\n",
    "interpreter.allocate_tensors()\n",
    "\n",
    "input_index = interpreter.get_input_details()[0]['index']\n",
    "output_index = interpreter.get_output_details()[0]['index']"
   ]
  },
  {
   "cell_type": "code",
   "execution_count": 16,
   "id": "3fa440e5",
   "metadata": {},
   "outputs": [
    {
     "data": {
      "text/plain": [
       "0"
      ]
     },
     "execution_count": 16,
     "metadata": {},
     "output_type": "execute_result"
    }
   ],
   "source": [
    "input_index"
   ]
  },
  {
   "cell_type": "code",
   "execution_count": 17,
   "id": "781bb0ed",
   "metadata": {},
   "outputs": [
    {
     "data": {
      "text/plain": [
       "13"
      ]
     },
     "execution_count": 17,
     "metadata": {},
     "output_type": "execute_result"
    }
   ],
   "source": [
    "output_index"
   ]
  },
  {
   "cell_type": "code",
   "execution_count": 18,
   "id": "8be67dc5",
   "metadata": {},
   "outputs": [],
   "source": [
    "from io import BytesIO\n",
    "from urllib import request\n",
    "\n",
    "from PIL import Image\n",
    "\n",
    "def download_image(url):\n",
    "    with request.urlopen(url) as resp:\n",
    "        buffer = resp.read()\n",
    "    stream = BytesIO(buffer)\n",
    "    img = Image.open(stream)\n",
    "    return img\n",
    "\n",
    "def prepare_image(img, target_size):\n",
    "    if img.mode != 'RGB':\n",
    "        img = img.convert('RGB')\n",
    "    img = img.resize(target_size, Image.NEAREST)\n",
    "    return img"
   ]
  },
  {
   "cell_type": "code",
   "execution_count": 19,
   "id": "aee9287a",
   "metadata": {},
   "outputs": [
    {
     "name": "stdout",
     "output_type": "stream",
     "text": [
      "Requirement already satisfied: pillow in /home/mark/.local/share/virtualenvs/MLZoomCamp-_LaD5eOB/lib/python3.9/site-packages (8.4.0)\n",
      "Note: you may need to restart the kernel to use updated packages.\n"
     ]
    }
   ],
   "source": [
    "pip install pillow"
   ]
  },
  {
   "cell_type": "code",
   "execution_count": 20,
   "id": "fba3d078",
   "metadata": {},
   "outputs": [],
   "source": [
    "img = download_image('https://upload.wikimedia.org/wikipedia/commons/9/9a/Pug_600.jpg')"
   ]
  },
  {
   "cell_type": "code",
   "execution_count": 22,
   "id": "0b42ace8",
   "metadata": {},
   "outputs": [],
   "source": [
    "img = prepare_image(img, (150,150))"
   ]
  },
  {
   "cell_type": "code",
   "execution_count": 25,
   "id": "3ba4758a",
   "metadata": {},
   "outputs": [],
   "source": [
    "from tensorflow.keras.preprocessing.image import ImageDataGenerator"
   ]
  },
  {
   "cell_type": "code",
   "execution_count": 37,
   "id": "bd4fc335",
   "metadata": {},
   "outputs": [],
   "source": [
    "train_datagen = ImageDataGenerator(rescale=1./255)"
   ]
  },
  {
   "cell_type": "code",
   "execution_count": 38,
   "id": "5ceef820",
   "metadata": {},
   "outputs": [],
   "source": [
    "x = np.array(img)\n",
    "X = np.array([x])"
   ]
  },
  {
   "cell_type": "code",
   "execution_count": 41,
   "id": "49b7ae40",
   "metadata": {},
   "outputs": [],
   "source": [
    "X = train_datagen.flow(X)"
   ]
  },
  {
   "cell_type": "code",
   "execution_count": 42,
   "id": "3bb44a4f",
   "metadata": {},
   "outputs": [
    {
     "data": {
      "text/plain": [
       "array([[[[0.7058824 , 0.7725491 , 0.7490196 ],\n",
       "         [0.69411767, 0.7607844 , 0.7294118 ],\n",
       "         [0.6313726 , 0.69803923, 0.6666667 ],\n",
       "         ...,\n",
       "         [0.76470596, 0.85098046, 0.83921576],\n",
       "         [0.68235296, 0.74509805, 0.74509805],\n",
       "         [0.6745098 , 0.7686275 , 0.77647066]],\n",
       "\n",
       "        [[0.5254902 , 0.5921569 , 0.5686275 ],\n",
       "         [0.7372549 , 0.80392164, 0.7803922 ],\n",
       "         [0.60784316, 0.6745098 , 0.6431373 ],\n",
       "         ...,\n",
       "         [0.79215693, 0.86666673, 0.8588236 ],\n",
       "         [0.6313726 , 0.7019608 , 0.6392157 ],\n",
       "         [0.78823537, 0.87843144, 0.854902  ]],\n",
       "\n",
       "        [[0.6862745 , 0.7490196 , 0.7372549 ],\n",
       "         [0.61960787, 0.6862745 , 0.6627451 ],\n",
       "         [0.64705884, 0.7137255 , 0.68235296],\n",
       "         ...,\n",
       "         [0.6       , 0.65882355, 0.64705884],\n",
       "         [0.627451  , 0.69411767, 0.654902  ],\n",
       "         [0.7058824 , 0.7960785 , 0.7725491 ]],\n",
       "\n",
       "        ...,\n",
       "\n",
       "        [[0.5803922 , 0.61960787, 0.58431375],\n",
       "         [0.4901961 , 0.5254902 , 0.5058824 ],\n",
       "         [0.5686275 , 0.6039216 , 0.5921569 ],\n",
       "         ...,\n",
       "         [0.5803922 , 0.5921569 , 0.54901963],\n",
       "         [0.47450984, 0.48627454, 0.4431373 ],\n",
       "         [0.3019608 , 0.33333334, 0.28235295]],\n",
       "\n",
       "        [[0.47058827, 0.5137255 , 0.45882356],\n",
       "         [0.47058827, 0.50980395, 0.47450984],\n",
       "         [0.59607846, 0.6313726 , 0.6117647 ],\n",
       "         ...,\n",
       "         [0.7490196 , 0.7411765 , 0.68235296],\n",
       "         [0.1764706 , 0.18039216, 0.11764707],\n",
       "         [0.3921569 , 0.4156863 , 0.36078432]],\n",
       "\n",
       "        [[0.5764706 , 0.5764706 , 0.5372549 ],\n",
       "         [0.74509805, 0.72156864, 0.6666667 ],\n",
       "         [0.49803925, 0.53333336, 0.5294118 ],\n",
       "         ...,\n",
       "         [0.57254905, 0.6       , 0.5686275 ],\n",
       "         [0.40000004, 0.41960788, 0.3921569 ],\n",
       "         [0.43529415, 0.454902  , 0.427451  ]]]], dtype=float32)"
      ]
     },
     "execution_count": 42,
     "metadata": {},
     "output_type": "execute_result"
    }
   ],
   "source": [
    "X[0]"
   ]
  },
  {
   "cell_type": "code",
   "execution_count": 45,
   "id": "30a7a97d",
   "metadata": {},
   "outputs": [
    {
     "data": {
      "text/plain": [
       "(1, 150, 150, 3)"
      ]
     },
     "execution_count": 45,
     "metadata": {},
     "output_type": "execute_result"
    }
   ],
   "source": [
    "X[0].shape"
   ]
  },
  {
   "cell_type": "code",
   "execution_count": 46,
   "id": "c702ea0e",
   "metadata": {},
   "outputs": [
    {
     "data": {
      "text/plain": [
       "array([[0.77049136]], dtype=float32)"
      ]
     },
     "execution_count": 46,
     "metadata": {},
     "output_type": "execute_result"
    }
   ],
   "source": [
    "model.predict(X)"
   ]
  }
 ],
 "metadata": {
  "kernelspec": {
   "display_name": "MLZoomCamp",
   "language": "python",
   "name": "mlzoomcamp"
  },
  "language_info": {
   "codemirror_mode": {
    "name": "ipython",
    "version": 3
   },
   "file_extension": ".py",
   "mimetype": "text/x-python",
   "name": "python",
   "nbconvert_exporter": "python",
   "pygments_lexer": "ipython3",
   "version": "3.9.5"
  }
 },
 "nbformat": 4,
 "nbformat_minor": 5
}
